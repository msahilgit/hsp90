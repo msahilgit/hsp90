{
 "cells": [
  {
   "cell_type": "code",
   "execution_count": 1,
   "id": "866b4454",
   "metadata": {},
   "outputs": [
    {
     "name": "stderr",
     "output_type": "stream",
     "text": [
      "/home/jayakrishnak/softwares/anaconda/lib/python3.9/site-packages/scipy/__init__.py:146: UserWarning: A NumPy version >=1.16.5 and <1.23.0 is required for this version of SciPy (detected version 1.23.0\n",
      "  warnings.warn(f\"A NumPy version >={np_minversion} and <{np_maxversion}\"\n"
     ]
    },
    {
     "name": "stdout",
     "output_type": "stream",
     "text": [
      "NOTE: Some configuration directories are not set up yet: \n",
      "\t/home/jayakrishnak/.gromacswrapper\n",
      "\t/home/jayakrishnak/.gromacswrapper/qscripts\n",
      "\t/home/jayakrishnak/.gromacswrapper/templates\n",
      "NOTE: You can create the configuration file and directories with:\n",
      "\t>>> import gromacs\n",
      "\t>>> gromacs.config.setup()\n"
     ]
    }
   ],
   "source": [
    "import numpy as np\n",
    "import matplotlib as m\n",
    "import matplotlib.pyplot as plt\n",
    "import copy as c\n",
    "import pyemma \n",
    "from tqdm import tqdm \n",
    "import gromacs as gmx\n",
    "import scipy.stats as sct\n",
    "import scipy.optimize as sco\n",
    "import sklearn as skl\n",
    "from sklearn.model_selection import train_test_split as splt\n",
    "import sklearn.metrics as mtr\n",
    "from sklearn.metrics import accuracy_score as acc\n",
    "from sklearn.metrics import confusion_matrix as cfm\n",
    "from sklearn.ensemble import RandomForestClassifier as rfc\n",
    "import pickle as pkl"
   ]
  },
  {
   "cell_type": "code",
   "execution_count": null,
   "id": "d2facea6",
   "metadata": {},
   "outputs": [],
   "source": []
  },
  {
   "cell_type": "markdown",
   "id": "39f4b263",
   "metadata": {},
   "source": [
    "# Datas"
   ]
  },
  {
   "cell_type": "code",
   "execution_count": null,
   "id": "a1edaa92",
   "metadata": {},
   "outputs": [],
   "source": []
  },
  {
   "cell_type": "code",
   "execution_count": 2,
   "id": "028d5d6c",
   "metadata": {},
   "outputs": [],
   "source": [
    "cpairs = np.loadtxt('../contact_pairs.txt',dtype='str')"
   ]
  },
  {
   "cell_type": "code",
   "execution_count": 44,
   "id": "384adce3",
   "metadata": {},
   "outputs": [
    {
     "name": "stderr",
     "output_type": "stream",
     "text": [
      "100%|███████████████████████████████████████████████████████████████████████████████████████████████████████████████████████| 3/3 [2:51:06<00:00, 3422.03s/it]\n"
     ]
    }
   ],
   "source": [
    "afeatures = []\n",
    "#\n",
    "path = '../../8_protein_conformations_and_apo_states/2_mindist_files/numpy_converted_files/'\n",
    "\n",
    "for t in tqdm([1,2,3]):\n",
    "    for s in ['closed','open']:\n",
    "        pfeatures = []\n",
    "        for cp in cpairs:\n",
    "            dd = np.load(path+'mindist_r'+cp[0]+'_r'+cp[1]+'_apo_'+s+'_'+str(t)+'.npy')\n",
    "            if len(pfeatures) == 0:\n",
    "                pfeatures = c.deepcopy(dd)\n",
    "            else:\n",
    "                pfeatures = np.column_stack((pfeatures,dd))\n",
    "                #\n",
    "        if len(afeatures) == 0:\n",
    "            afeatures = c.deepcopy(pfeatures)\n",
    "        else:\n",
    "            afeatures = np.concatenate((afeatures,pfeatures))"
   ]
  },
  {
   "cell_type": "code",
   "execution_count": 45,
   "id": "b8a3347a",
   "metadata": {},
   "outputs": [
    {
     "name": "stderr",
     "output_type": "stream",
     "text": [
      "100%|███████████████████████████████████████████████████████████████████████████████████████████████████████████████████████| 4/4 [1:31:17<00:00, 1369.45s/it]\n"
     ]
    }
   ],
   "source": [
    "bfeatures = []\n",
    "#\n",
    "path='../1_bound_data/numpy_converted_files/'\n",
    "for t in tqdm([1,2,3,4]):\n",
    "    pfeatures = []\n",
    "    for cp in cpairs:\n",
    "        dd = np.load(path+'mindist_r'+cp[0]+'_r'+cp[1]+'_bound_'+str(t)+'.npy')\n",
    "        if len(pfeatures) == 0:\n",
    "            pfeatures = c.deepcopy(dd)\n",
    "        else:\n",
    "            pfeatures = np.column_stack((pfeatures,dd))\n",
    "            #\n",
    "    if len(bfeatures) == 0:\n",
    "        bfeatures = c.deepcopy(pfeatures)\n",
    "    else:\n",
    "        bfeatures = np.concatenate((bfeatures,pfeatures))"
   ]
  },
  {
   "cell_type": "code",
   "execution_count": null,
   "id": "4c7d1c61",
   "metadata": {},
   "outputs": [],
   "source": []
  },
  {
   "cell_type": "code",
   "execution_count": 48,
   "id": "d7be5114",
   "metadata": {},
   "outputs": [],
   "source": [
    "labels = np.asarray([0 for i in range(len(afeatures))] + [1 for i in range(len(bfeatures))])"
   ]
  },
  {
   "cell_type": "code",
   "execution_count": 50,
   "id": "ded36801",
   "metadata": {},
   "outputs": [],
   "source": [
    "features = np.concatenate((afeatures,bfeatures))"
   ]
  },
  {
   "cell_type": "code",
   "execution_count": 55,
   "id": "ffffcdbd",
   "metadata": {},
   "outputs": [],
   "source": [
    "# freeing memory\n",
    "#\n",
    "afeatures = None\n",
    "bfeatures = None"
   ]
  },
  {
   "cell_type": "code",
   "execution_count": 56,
   "id": "a9c79a50",
   "metadata": {},
   "outputs": [],
   "source": [
    "np.save('features.npy',features)\n",
    "np.save('labels.npy',labels)"
   ]
  },
  {
   "cell_type": "code",
   "execution_count": 11,
   "id": "1b0a6685",
   "metadata": {},
   "outputs": [],
   "source": [
    "features = np.load('features.npy')\n",
    "labels = np.load('labels.npy')"
   ]
  },
  {
   "cell_type": "code",
   "execution_count": null,
   "id": "68616471",
   "metadata": {},
   "outputs": [],
   "source": []
  },
  {
   "cell_type": "markdown",
   "id": "9bca4fab",
   "metadata": {},
   "source": [
    "# random forest classifier"
   ]
  },
  {
   "cell_type": "code",
   "execution_count": 5,
   "id": "867d0bad",
   "metadata": {},
   "outputs": [],
   "source": [
    "ftrain, ftest, ltrain, ltest  = splt(features,labels, test_size=0.3, random_state=0)"
   ]
  },
  {
   "cell_type": "code",
   "execution_count": 7,
   "id": "de4e7bc1",
   "metadata": {},
   "outputs": [],
   "source": [
    "clf0 = rfc(n_estimators=1000, n_jobs=16, random_state=0)"
   ]
  },
  {
   "cell_type": "code",
   "execution_count": 8,
   "id": "b6e4e71e",
   "metadata": {},
   "outputs": [
    {
     "data": {
      "text/plain": [
       "RandomForestClassifier(n_estimators=1000, n_jobs=16, random_state=0)"
      ]
     },
     "execution_count": 8,
     "metadata": {},
     "output_type": "execute_result"
    }
   ],
   "source": [
    "clf0.fit(ftrain,ltrain)"
   ]
  },
  {
   "cell_type": "code",
   "execution_count": 38,
   "id": "be45007e",
   "metadata": {},
   "outputs": [],
   "source": [
    "pkl.dump(clf0,open('model0.pkl','wb'))"
   ]
  },
  {
   "cell_type": "code",
   "execution_count": 9,
   "id": "21782abf",
   "metadata": {},
   "outputs": [],
   "source": [
    "predicted0_train = clf0.predict(ftrain)\n",
    "predicted0_test = clf0.predict(ftest)"
   ]
  },
  {
   "cell_type": "code",
   "execution_count": 11,
   "id": "0ada2457",
   "metadata": {},
   "outputs": [
    {
     "data": {
      "text/plain": [
       "1.0"
      ]
     },
     "execution_count": 11,
     "metadata": {},
     "output_type": "execute_result"
    }
   ],
   "source": [
    "acc(ltrain,predicted0_train)"
   ]
  },
  {
   "cell_type": "code",
   "execution_count": 12,
   "id": "ba070982",
   "metadata": {},
   "outputs": [
    {
     "data": {
      "text/plain": [
       "1.0"
      ]
     },
     "execution_count": 12,
     "metadata": {},
     "output_type": "execute_result"
    }
   ],
   "source": [
    "acc(ltest,predicted0_test)"
   ]
  },
  {
   "cell_type": "code",
   "execution_count": 17,
   "id": "3a51746a",
   "metadata": {},
   "outputs": [
    {
     "data": {
      "text/plain": [
       "[<matplotlib.lines.Line2D at 0x7f5a8ee8b5b0>]"
      ]
     },
     "execution_count": 17,
     "metadata": {},
     "output_type": "execute_result"
    },
    {
     "data": {
      "image/png": "[encoded data removed]",
      "text/plain": [
       "<Figure size 432x288 with 1 Axes>"
      ]
     },
     "metadata": {
      "needs_background": "light"
     },
     "output_type": "display_data"
    }
   ],
   "source": [
    "plt.plot(clf0.feature_importances_[clf0.feature_importances_.argsort()][::-1])"
   ]
  },
  {
   "cell_type": "code",
   "execution_count": 19,
   "id": "ab633ff7",
   "metadata": {},
   "outputs": [
    {
     "data": {
      "image/png": "[encoded data removed]",
      "text/plain": [
       "<Figure size 432x288 with 1 Axes>"
      ]
     },
     "metadata": {
      "needs_background": "light"
     },
     "output_type": "display_data"
    }
   ],
   "source": [
    "plt.plot(np.cumsum(clf0.feature_importances_[clf0.feature_importances_.argsort()][::-1]))\n",
    "plt.grid()"
   ]
  },
  {
   "cell_type": "code",
   "execution_count": null,
   "id": "de980867",
   "metadata": {},
   "outputs": [],
   "source": []
  },
  {
   "cell_type": "code",
   "execution_count": 25,
   "id": "6d0140c3",
   "metadata": {},
   "outputs": [
    {
     "data": {
      "text/plain": [
       "array([[0.59219209, 0.        ],\n",
       "       [0.        , 0.40780791]])"
      ]
     },
     "execution_count": 25,
     "metadata": {},
     "output_type": "execute_result"
    }
   ],
   "source": [
    "cmatrix0 = cfm(predicted0_test,ltest)\n",
    "cmatrix0 = cmatrix0/cmatrix0.sum()\n",
    "cmatrix0"
   ]
  },
  {
   "cell_type": "code",
   "execution_count": 35,
   "id": "e5518c5f",
   "metadata": {},
   "outputs": [
    {
     "data": {
      "text/plain": [
       "<matplotlib.colorbar.Colorbar at 0x7f5a94003970>"
      ]
     },
     "execution_count": 35,
     "metadata": {},
     "output_type": "execute_result"
    },
    {
     "data": {
      "image/png": "[encoded data removed]",
      "text/plain": [
       "<Figure size 432x288 with 2 Axes>"
      ]
     },
     "metadata": {
      "needs_background": "light"
     },
     "output_type": "display_data"
    }
   ],
   "source": [
    "px = plt.pcolor(cmatrix0,cmap='Reds_r')\n",
    "plt.colorbar(px)"
   ]
  },
  {
   "cell_type": "code",
   "execution_count": null,
   "id": "2b590077",
   "metadata": {},
   "outputs": [],
   "source": []
  },
  {
   "cell_type": "markdown",
   "id": "a1a6f719",
   "metadata": {},
   "source": [
    "# for cross_validation"
   ]
  },
  {
   "cell_type": "markdown",
   "id": "b897c81a",
   "metadata": {},
   "source": [
    "n=49\n",
    "randoms = np.zeros((n))\n",
    "for i in range(n):\n",
    "    randoms[i] = np.random.randint(0,1000)"
   ]
  },
  {
   "cell_type": "code",
   "execution_count": 42,
   "id": "9baac756",
   "metadata": {},
   "outputs": [
    {
     "data": {
      "text/plain": [
       "array([383.,  52., 339.,   4., 415., 273., 755., 269., 397., 975., 864.,\n",
       "       220., 184., 497., 916., 647., 238., 878.,  67.,   7., 603., 669.,\n",
       "       628.,  35., 510., 406., 970., 962., 881., 646., 465., 537., 617.,\n",
       "        72., 412.,  80., 293., 851., 877., 945.,   7., 547., 737., 169.,\n",
       "       767., 624., 713., 145., 879.])"
      ]
     },
     "execution_count": 42,
     "metadata": {},
     "output_type": "execute_result"
    }
   ],
   "source": [
    "randoms"
   ]
  },
  {
   "cell_type": "code",
   "execution_count": 43,
   "id": "ca85de44",
   "metadata": {},
   "outputs": [],
   "source": [
    "np.save('randoms.npy',randoms)"
   ]
  },
  {
   "cell_type": "code",
   "execution_count": null,
   "id": "09b8cf99",
   "metadata": {},
   "outputs": [],
   "source": []
  },
  {
   "cell_type": "code",
   "execution_count": null,
   "id": "19719cec",
   "metadata": {},
   "outputs": [],
   "source": []
  },
  {
   "cell_type": "markdown",
   "id": "1bf38fe5",
   "metadata": {},
   "source": [
    "# analysis"
   ]
  },
  {
   "cell_type": "markdown",
   "id": "9a9aaa3a",
   "metadata": {},
   "source": [
    "<font size=6>\n",
    "    <br>\n",
    "    <center>\n",
    "        Analysis protocol <br><br>\n",
    "    </center>\n",
    "</font>\n",
    "\n",
    "<font size=4>\n",
    "    detecting conformational changes in entire protein (by RF approach) <br><br>\n",
    "    i.  close > open (allosteric changes occuring in close > open transition) <br><br>\n",
    "    ii. apo > bound <br><br>\n",
    "    are conformational changes in apo > bound are same (similarity index) as close > open (both proximal and distal(allosteric)) <br>\n",
    "    i.e., ligand binding process is crediting for conformation changes <br>\n",
    "    in this case, allosteric changes can turned out to be important <br>\n",
    "    also adding bp volume in this <br><br>\n",
    "    are the changes induced / conformational selection --- (PRS) conf sel model <br><br> <br><br>\n",
    "</font>\n",
    "\n",
    "\n",
    "<font size=6>\n",
    "    <center>\n",
    "        $   SI = \\frac  { \\Sigma_i ( f1_i + f2_i) } { \\Sigma (f1 + f2)}    $ <br>\n",
    "    </center>\n",
    "</font>\n",
    "<font size=4>\n",
    "    SI - similarity index <br>\n",
    "    $f1_i$ - weight (probability of occuring in cross validated model) of feature i in state 1 <br>\n",
    "</font>\n",
    "\n",
    "\n",
    "\n",
    "<font size=6>\n",
    "    <br><br><br>\n",
    "    RF approach <br><br>\n",
    "</font>\n",
    "\n",
    "<font size=4>\n",
    "    defining contact matrix time profile as features <br><br>\n",
    "    labelling based on apo/bound or MSM derived open/close/intermediate states<br><br>\n",
    "    RF classification on 70% training data - checking accuracy on test data - if learning greater than 0.95, <br><br>\n",
    "    replicating the procedure for 49 other cross validated samples <br><br>\n",
    "    measuring hold-out accuracy as mean+-std on total 50 cross validated samples <br><br>\n",
    "    taking top features for each RF model, checking that not very much different (error analysis) <br><br>\n",
    "    taking features appearing in more than 50% (adjustable) of models <br><br>\n",
    "    studying the behaviour of above features <br><br>\n",
    "    <br>\n",
    "</font>"
   ]
  },
  {
   "cell_type": "code",
   "execution_count": 3,
   "id": "ca3c2553",
   "metadata": {},
   "outputs": [],
   "source": [
    "cpairs = np.loadtxt('../contact_pairs.txt', dtype=str)"
   ]
  },
  {
   "cell_type": "code",
   "execution_count": 7,
   "id": "b93a8ccd",
   "metadata": {},
   "outputs": [
    {
     "name": "stderr",
     "output_type": "stream",
     "text": [
      "100%|█████████████████████████████████████████████████████████████████████████████████████████████████████████████████████████| 50/50 [01:53<00:00,  2.26s/it]\n",
      "/tmp/ipykernel_7826/3329571488.py:16: VisibleDeprecationWarning: Creating an ndarray from ragged nested sequences (which is a list-or-tuple of lists-or-tuples-or ndarrays with different lengths or shapes) is deprecated. If you meant to do this, you must specify 'dtype=object' when creating the ndarray.\n",
      "  top95_features = np.array(top95_features)\n"
     ]
    }
   ],
   "source": [
    "top95_features = []\n",
    "cutoff = 0.95\n",
    "\n",
    "for m in tqdm(range(50)):\n",
    "    \n",
    "    if m==0: clf = pkl.load(open('model0.pkl','rb'))\n",
    "    else: clf = pkl.load(open(f'1_cross_validation/model_{m}.pkl', 'rb'))\n",
    "        \n",
    "    fimportances = clf.feature_importances_\n",
    "    findexes = fimportances.argsort()[::-1]\n",
    "    fimportances = fimportances[findexes]\n",
    "    lindex = np.where( np.cumsum(fimportances) >= cutoff )[0][0]\n",
    "    fimportances = np.column_stack(( findexes[:lindex], fimportances[:lindex] ))\n",
    "    top95_features.append(fimportances)\n",
    "    \n",
    "top95_features = np.array(top95_features)"
   ]
  },
  {
   "cell_type": "code",
   "execution_count": 8,
   "id": "efb935a1",
   "metadata": {},
   "outputs": [],
   "source": [
    "nreplicas = 50\n",
    "\n",
    "common_top95_features = []\n",
    "dd = np.concatenate((top95_features))[:,0].astype(int)\n",
    "for i in np.unique(dd):\n",
    "    if len(np.where(dd == i)[0]) == nreplicas:\n",
    "        common_top95_features.append(i)\n",
    "\n",
    "nfeatures_top95 = []\n",
    "diff_importances_top95 = []\n",
    "for i in range(nreplicas):\n",
    "    nfeatures_top95.append( top95_features[i].shape[0] )\n",
    "    \n",
    "    ss = 0\n",
    "    for j in top95_features[i]:\n",
    "        if j[0] not in common_top95_features:\n",
    "            ss += j[1]\n",
    "    diff_importances_top95.append(ss/0.95)\n",
    "    \n",
    "nfeatures_top95 = [ np.mean(nfeatures_top95), np.std(nfeatures_top95) ]\n",
    "diff_importances_top95 = [ np.mean(diff_importances_top95), np.std(diff_importances_top95) ]"
   ]
  },
  {
   "cell_type": "code",
   "execution_count": 9,
   "id": "f22520d5",
   "metadata": {},
   "outputs": [
    {
     "data": {
      "text/plain": [
       "[304.46, 2.523568901377571]"
      ]
     },
     "execution_count": 9,
     "metadata": {},
     "output_type": "execute_result"
    }
   ],
   "source": [
    "nfeatures_top95"
   ]
  },
  {
   "cell_type": "code",
   "execution_count": 10,
   "id": "a82d0c37",
   "metadata": {},
   "outputs": [
    {
     "data": {
      "text/plain": [
       "[0.046215151485903175, 0.002067985254796445]"
      ]
     },
     "execution_count": 10,
     "metadata": {},
     "output_type": "execute_result"
    }
   ],
   "source": [
    "diff_importances_top95"
   ]
  },
  {
   "cell_type": "code",
   "execution_count": 11,
   "id": "7a3b98ae",
   "metadata": {},
   "outputs": [],
   "source": [
    "all_top95_features = {}\n",
    "for i in range(nreplicas):\n",
    "    for j in top95_features[i]:\n",
    "        if int(j[0]) not in all_top95_features.keys():\n",
    "            all_top95_features[int(j[0])] = []\n",
    "        all_top95_features[int(j[0])].append(j[1])\n",
    "\n",
    "major_top95_features = {}\n",
    "for key in all_top95_features:\n",
    "    if len(all_top95_features[key]) > 45:\n",
    "        major_top95_features[key] = [ np.mean(all_top95_features[key]), np.std(all_top95_features[key]) ]"
   ]
  },
  {
   "cell_type": "code",
   "execution_count": 16,
   "id": "f1852036",
   "metadata": {},
   "outputs": [],
   "source": [
    "np.save('saved_files/major_top95_features.npy', \n",
    "        np.column_stack(( list(major_top95_features.keys()), list(major_top95_features.values()) )) \n",
    "       )"
   ]
  },
  {
   "cell_type": "code",
   "execution_count": 4,
   "id": "c0f0a8bc",
   "metadata": {},
   "outputs": [],
   "source": [
    "major_top95_features = {i[0]:i[1:] for i in np.load('saved_files/major_top95_features.npy')}"
   ]
  },
  {
   "cell_type": "code",
   "execution_count": 5,
   "id": "059c0591",
   "metadata": {},
   "outputs": [
    {
     "data": {
      "text/plain": [
       "256"
      ]
     },
     "execution_count": 5,
     "metadata": {},
     "output_type": "execute_result"
    }
   ],
   "source": [
    "len(major_top95_features)"
   ]
  },
  {
   "cell_type": "code",
   "execution_count": null,
   "id": "f2bd36e8",
   "metadata": {},
   "outputs": [],
   "source": []
  },
  {
   "cell_type": "code",
   "execution_count": 15,
   "id": "6833a29a",
   "metadata": {},
   "outputs": [],
   "source": [
    "means_apo = np.zeros((len(major_top95_features.keys())))\n",
    "means_bound = np.zeros((len(major_top95_features.keys())))\n",
    "\n",
    "afeatures = features[ np.where(labels == 0) ]\n",
    "bfeatures = features[ np.where(labels == 1) ]\n",
    "\n",
    "keys=list(major_top95_features.keys())\n",
    "for i in range(len(keys)):\n",
    "    means_apo[i] = np.mean(afeatures[:,int(keys[i])])\n",
    "    means_bound[i] = np.mean(bfeatures[:,int(keys[i])])\n",
    "\n",
    "afeatures, bfeatures, features, labels = 0, 0, 0, 0"
   ]
  },
  {
   "cell_type": "code",
   "execution_count": 18,
   "id": "fd28fb38",
   "metadata": {},
   "outputs": [],
   "source": [
    "np.save('saved_files/means_apo.npy', means_apo)\n",
    "np.save('saved_files/means_bound.npy', means_bound)"
   ]
  },
  {
   "cell_type": "code",
   "execution_count": 19,
   "id": "47e54ee7",
   "metadata": {},
   "outputs": [],
   "source": [
    "means_apo = np.load('saved_files/means_apo.npy')\n",
    "means_bound = np.load('saved_files/means_bound.npy')"
   ]
  },
  {
   "cell_type": "code",
   "execution_count": 20,
   "id": "84117718",
   "metadata": {},
   "outputs": [
    {
     "data": {
      "text/plain": [
       "(0.0, 257.0)"
      ]
     },
     "execution_count": 20,
     "metadata": {},
     "output_type": "execute_result"
    },
    {
     "data": {
      "image/png": "[encoded data removed]",
      "text/plain": [
       "<Figure size 1152x360 with 1 Axes>"
      ]
     },
     "metadata": {
      "needs_background": "light"
     },
     "output_type": "display_data"
    }
   ],
   "source": [
    "fig, ax = plt.subplots(1, figsize=(16,5))\n",
    "ax.bar(range(len(means_apo)), means_apo - means_bound, color='crimson')\n",
    "ax.set_xlim(0,257)"
   ]
  },
  {
   "cell_type": "code",
   "execution_count": null,
   "id": "45bafc89",
   "metadata": {},
   "outputs": [],
   "source": []
  },
  {
   "cell_type": "code",
   "execution_count": null,
   "id": "4b277b4a",
   "metadata": {},
   "outputs": [],
   "source": []
  },
  {
   "cell_type": "code",
   "execution_count": null,
   "id": "848c06f3",
   "metadata": {},
   "outputs": [],
   "source": []
  },
  {
   "cell_type": "code",
   "execution_count": null,
   "id": "544776bf",
   "metadata": {},
   "outputs": [],
   "source": []
  },
  {
   "cell_type": "markdown",
   "id": "3e6676d7",
   "metadata": {},
   "source": [
    "# comparison with closed > open conformation"
   ]
  },
  {
   "cell_type": "code",
   "execution_count": 21,
   "id": "f6f708d0",
   "metadata": {},
   "outputs": [],
   "source": [
    "open_closed_major_top95_features = { i[0]:i[1:] for i in np.load('../../8_protein_conformations_and_apo_states/4_rf/major_top95_features.npy') }"
   ]
  },
  {
   "cell_type": "code",
   "execution_count": 36,
   "id": "5ffb46a1",
   "metadata": {},
   "outputs": [],
   "source": [
    "keys_open_closed = np.array(list(open_closed_major_top95_features.keys())).astype(int)\n",
    "keys_apo_bound = np.array(list(major_top95_features.keys())).astype(int)"
   ]
  },
  {
   "cell_type": "code",
   "execution_count": 131,
   "id": "0d7b5715",
   "metadata": {},
   "outputs": [],
   "source": [
    "common_pairs = np.intersect1d(keys_open_closed, keys_apo_bound)"
   ]
  },
  {
   "cell_type": "code",
   "execution_count": null,
   "id": "efc5ec3d",
   "metadata": {},
   "outputs": [],
   "source": []
  },
  {
   "cell_type": "code",
   "execution_count": null,
   "id": "93480b16",
   "metadata": {},
   "outputs": [],
   "source": []
  },
  {
   "cell_type": "markdown",
   "id": "3dfe950b",
   "metadata": {},
   "source": [
    "means_open = np.load('../../8_protein_conformations_and_apo_states/4_rf/saved_files/means_open.npy')\n",
    "means_closed = np.load('../../8_protein_conformations_and_apo_states/4_rf/saved_files/means_closed.npy')"
   ]
  },
  {
   "cell_type": "markdown",
   "id": "18785704",
   "metadata": {},
   "source": [
    "means_pr = means_open - means_closed\n",
    "means_binding = means_bound - means_apo"
   ]
  },
  {
   "cell_type": "markdown",
   "id": "c89e3090",
   "metadata": {},
   "source": [
    "means_common = np.zeros((len(common_pairs), 2))\n",
    "for i in range(len(common_pairs)):\n",
    "    indp = np.where(keys_open_closed == common_pairs[i])[0][0]\n",
    "    indb = np.where(keys_apo_bound == common_pairs[i])[0][0]\n",
    "    means_common[i] = [means_pr[indp], means_binding[indb]]"
   ]
  },
  {
   "cell_type": "markdown",
   "id": "ac80499d",
   "metadata": {},
   "source": [
    "width=0.4\n",
    "fig,ax=plt.subplots(1,figsize=(16,4))\n",
    "ax.bar( np.arange(len(means_common))-width/2, means_common[:,0], width=width, color='crimson' )\n",
    "ax.bar( np.arange(len(means_common))+width/2, means_common[:,1], width=width, color='dodgerblue' )\n",
    "ax.set_xlim(-1,123)"
   ]
  },
  {
   "cell_type": "markdown",
   "id": "dd38954b",
   "metadata": {},
   "source": [
    "def check_vals(vals, both=0.1,):\n",
    "    if np.min(np.abs(vals)) <= both:\n",
    "        return False\n",
    "    else:\n",
    "        if (np.min(vals) > 0) or (np.max(vals) < 0):\n",
    "            return False\n",
    "        else:\n",
    "            return True\n",
    "\n",
    "ncommons = []\n",
    "for i in range(len(common_pairs)):\n",
    "    if check_vals(means_common[i]):\n",
    "        ncommons.append(i)"
   ]
  },
  {
   "cell_type": "markdown",
   "id": "1f7fee21",
   "metadata": {},
   "source": [
    "common_pairs = np.delete(common_pairs, ncommons)"
   ]
  },
  {
   "cell_type": "markdown",
   "id": "184eef82",
   "metadata": {},
   "source": [
    "<font size=4>\n",
    "    DIRECTIONALITY    Not considered"
   ]
  },
  {
   "cell_type": "code",
   "execution_count": null,
   "id": "409a843f",
   "metadata": {},
   "outputs": [],
   "source": []
  },
  {
   "cell_type": "code",
   "execution_count": null,
   "id": "4051a889",
   "metadata": {},
   "outputs": [],
   "source": []
  },
  {
   "cell_type": "code",
   "execution_count": 132,
   "id": "fbf131d9",
   "metadata": {},
   "outputs": [
    {
     "name": "stdout",
     "output_type": "stream",
     "text": [
      "0.4604603213969065 +- 0.05533828954537165\n",
      "0.7809121113319357 +- 0.1010291224465675\n"
     ]
    }
   ],
   "source": [
    "p1, e1 = 0, 0\n",
    "p2, e2 = 0, 0\n",
    "for i in common_pairs:\n",
    "    p1 += major_top95_features[i][0]\n",
    "    e1 += major_top95_features[i][1]\n",
    "    p2 += open_closed_major_top95_features[i][0]\n",
    "    e2 += open_closed_major_top95_features[i][1]\n",
    "    \n",
    "total_apo_bound = np.sum(np.array(list(major_top95_features.values()))[:,0])\n",
    "total_open_closed = np.sum(np.array(list(open_closed_major_top95_features.values()))[:,0])\n",
    "p1 = p1/total_apo_bound\n",
    "p2 = p2/total_open_closed\n",
    "print(f'{p1} +- {e1}')\n",
    "print(f'{p2} +- {e2}')"
   ]
  },
  {
   "cell_type": "code",
   "execution_count": 133,
   "id": "724ff211",
   "metadata": {},
   "outputs": [
    {
     "data": {
      "text/plain": [
       "0.924358468374499"
      ]
     },
     "execution_count": 133,
     "metadata": {},
     "output_type": "execute_result"
    }
   ],
   "source": [
    "total_apo_bound"
   ]
  },
  {
   "cell_type": "code",
   "execution_count": 134,
   "id": "691cc2b8",
   "metadata": {},
   "outputs": [
    {
     "data": {
      "text/plain": [
       "0.9255097984560371"
      ]
     },
     "execution_count": 134,
     "metadata": {},
     "output_type": "execute_result"
    }
   ],
   "source": [
    "total_open_closed"
   ]
  },
  {
   "cell_type": "code",
   "execution_count": null,
   "id": "77111d2b",
   "metadata": {},
   "outputs": [],
   "source": []
  },
  {
   "cell_type": "code",
   "execution_count": null,
   "id": "4a9f5f47",
   "metadata": {},
   "outputs": [],
   "source": []
  },
  {
   "cell_type": "markdown",
   "id": "943bebd3",
   "metadata": {},
   "source": [
    "## plotting"
   ]
  },
  {
   "cell_type": "code",
   "execution_count": 146,
   "id": "c86c08d9",
   "metadata": {},
   "outputs": [],
   "source": [
    "radius_max = 0.4\n",
    "radius_min = 0.1"
   ]
  },
  {
   "cell_type": "markdown",
   "id": "9c3ad015",
   "metadata": {},
   "source": [
    "### apo > bound"
   ]
  },
  {
   "cell_type": "code",
   "execution_count": 147,
   "id": "9c62ea04",
   "metadata": {},
   "outputs": [],
   "source": [
    "values_apo_bound = np.array(list(major_top95_features.values()))[:,0]\n",
    "keys_apo_bound = np.array(list(major_top95_features.keys()))"
   ]
  },
  {
   "cell_type": "code",
   "execution_count": 148,
   "id": "cdc988cb",
   "metadata": {},
   "outputs": [
    {
     "name": "stdout",
     "output_type": "stream",
     "text": [
      "0.0530397396141639 0.0004505266610467952\n"
     ]
    }
   ],
   "source": [
    "max_apo_bound = values_apo_bound.max()\n",
    "min_apo_bound = values_apo_bound.min()\n",
    "print(max_apo_bound, min_apo_bound)"
   ]
  },
  {
   "cell_type": "code",
   "execution_count": 149,
   "id": "92fee30f",
   "metadata": {},
   "outputs": [],
   "source": [
    "values_apo_bound = (values_apo_bound - min_apo_bound) / max_apo_bound\n",
    "values_apo_bound = values_apo_bound * (radius_max - radius_min) + radius_min"
   ]
  },
  {
   "cell_type": "code",
   "execution_count": 150,
   "id": "55767bb0",
   "metadata": {},
   "outputs": [],
   "source": [
    "dd = {keys_apo_bound[i]:values_apo_bound[i] for i in range(len(values_apo_bound))}\n",
    "specific_apo_bound = []\n",
    "common_apo_bound = []\n",
    "for i in dd.keys():\n",
    "    if i in common_pairs:\n",
    "        common_apo_bound.append( list(cpairs[int(i)]) + [dd[i]] )\n",
    "    else:\n",
    "        specific_apo_bound.append( list(cpairs[int(i)]) + [dd[i]] )"
   ]
  },
  {
   "cell_type": "code",
   "execution_count": 151,
   "id": "b117976e",
   "metadata": {},
   "outputs": [],
   "source": [
    "np.savetxt('plotting_files/common_apo_bound.txt', common_apo_bound, fmt='%s')\n",
    "np.savetxt('plotting_files/specific_apo_bound.txt', specific_apo_bound, fmt='%s')"
   ]
  },
  {
   "cell_type": "code",
   "execution_count": null,
   "id": "837c4429",
   "metadata": {},
   "outputs": [],
   "source": []
  },
  {
   "cell_type": "markdown",
   "id": "3a1c75e6",
   "metadata": {},
   "source": [
    "### closed > open"
   ]
  },
  {
   "cell_type": "code",
   "execution_count": 152,
   "id": "6ccf2b78",
   "metadata": {},
   "outputs": [],
   "source": [
    "values_open_closed = np.array(list(open_closed_major_top95_features.values()))[:,0]\n",
    "keys_open_closed = np.array(list(open_closed_major_top95_features.keys()))"
   ]
  },
  {
   "cell_type": "code",
   "execution_count": 153,
   "id": "0ec915fd",
   "metadata": {},
   "outputs": [
    {
     "name": "stdout",
     "output_type": "stream",
     "text": [
      "0.0441063758428277 0.0006376537281532213\n"
     ]
    }
   ],
   "source": [
    "max_open_closed = values_open_closed.max()\n",
    "min_open_closed = values_open_closed.min()\n",
    "print(max_open_closed, min_open_closed)"
   ]
  },
  {
   "cell_type": "code",
   "execution_count": 154,
   "id": "b3507673",
   "metadata": {},
   "outputs": [],
   "source": [
    "values_open_closed = (values_open_closed - min_open_closed) / max_open_closed\n",
    "values_open_closed = values_open_closed * (radius_max - radius_min) + radius_min"
   ]
  },
  {
   "cell_type": "code",
   "execution_count": 155,
   "id": "1eb005b6",
   "metadata": {},
   "outputs": [],
   "source": [
    "dd = {keys_open_closed[i]:values_open_closed[i] for i in range(len(values_open_closed))}\n",
    "specific_open_closed = []\n",
    "common_open_closed = []\n",
    "for i in dd.keys():\n",
    "    if i in common_pairs:\n",
    "        common_open_closed.append( list(cpairs[int(i)]) + [dd[i]] )\n",
    "    else:\n",
    "        specific_open_closed.append( list(cpairs[int(i)]) + [dd[i]] )"
   ]
  },
  {
   "cell_type": "code",
   "execution_count": 156,
   "id": "f2689ad6",
   "metadata": {},
   "outputs": [],
   "source": [
    "np.savetxt('plotting_files/common_open_closed.txt', common_open_closed, fmt='%s')\n",
    "np.savetxt('plotting_files/specific_open_closed.txt', specific_open_closed, fmt='%s')"
   ]
  },
  {
   "cell_type": "code",
   "execution_count": null,
   "id": "ff62fc89",
   "metadata": {},
   "outputs": [],
   "source": []
  },
  {
   "cell_type": "markdown",
   "id": "90fdc8f2",
   "metadata": {},
   "source": [
    "### residues"
   ]
  },
  {
   "cell_type": "markdown",
   "id": "a5ed896a",
   "metadata": {},
   "source": [
    "<font size=4>\n",
    "    <br>\n",
    "    the value of each residue dictates that the particular residue is involved in that much feature importance (aggregated).\n",
    "    <br><br>\n",
    "    the residues are divided into three categories :: <br>\n",
    "    1: involved in specifics only <br>\n",
    "    2: involved in common only<br>\n",
    "    3: involved in both <br>\n",
    "    <br>\n",
    "</font>"
   ]
  },
  {
   "cell_type": "code",
   "execution_count": 157,
   "id": "c1454f69",
   "metadata": {},
   "outputs": [],
   "source": [
    "residues_all_apo_bound = {}\n",
    "for i in major_top95_features.keys():\n",
    "    for j in cpairs[int(i)]:\n",
    "        if j not in residues_all_apo_bound.keys():\n",
    "            residues_all_apo_bound[j] = [0,0]\n",
    "        residues_all_apo_bound[j] = [ major_top95_features[i][0] + residues_all_apo_bound[j][0],\n",
    "                                    major_top95_features[i][1] + residues_all_apo_bound[j][1]]"
   ]
  },
  {
   "cell_type": "code",
   "execution_count": 158,
   "id": "ffad0c7b",
   "metadata": {},
   "outputs": [],
   "source": [
    "residues_all_open_closed = {}\n",
    "for i in open_closed_major_top95_features.keys():\n",
    "    for j in cpairs[int(i)]:\n",
    "        if j not in residues_all_open_closed.keys():\n",
    "            residues_all_open_closed[j] = [0,0]\n",
    "        residues_all_open_closed[j] = [ open_closed_major_top95_features[i][0] + residues_all_open_closed[j][0],\n",
    "                                    open_closed_major_top95_features[i][1] + residues_all_open_closed[j][1]]"
   ]
  },
  {
   "cell_type": "code",
   "execution_count": null,
   "id": "ad71ee5e",
   "metadata": {},
   "outputs": [],
   "source": []
  },
  {
   "cell_type": "code",
   "execution_count": 159,
   "id": "3a446f8b",
   "metadata": {},
   "outputs": [
    {
     "data": {
      "text/plain": [
       "128"
      ]
     },
     "execution_count": 159,
     "metadata": {},
     "output_type": "execute_result"
    }
   ],
   "source": [
    "len(residues_all_apo_bound)"
   ]
  },
  {
   "cell_type": "code",
   "execution_count": 160,
   "id": "648aa43d",
   "metadata": {},
   "outputs": [
    {
     "data": {
      "text/plain": [
       "95"
      ]
     },
     "execution_count": 160,
     "metadata": {},
     "output_type": "execute_result"
    }
   ],
   "source": [
    "len(residues_all_open_closed)"
   ]
  },
  {
   "cell_type": "code",
   "execution_count": 260,
   "id": "66855c01",
   "metadata": {},
   "outputs": [],
   "source": [
    "k1 = np.array(list(residues_all_apo_bound.keys()))\n",
    "k2 = np.array(list(residues_all_open_closed.keys()))\n",
    "v1 = np.array(list(residues_all_apo_bound.values()))[:,0]\n",
    "v2 = np.array(list(residues_all_open_closed.values()))[:,0]"
   ]
  },
  {
   "cell_type": "code",
   "execution_count": 261,
   "id": "dab8b03f",
   "metadata": {},
   "outputs": [
    {
     "name": "stdout",
     "output_type": "stream",
     "text": [
      "0.7781711685680718 +- 0.18147324849711602\n",
      "0.9898957986507213 +- 0.26759505279828516\n"
     ]
    }
   ],
   "source": [
    "p1, p2, e1, e2 = 0, 0, 0, 0\n",
    "for i in np.intersect1d(k1, k2):\n",
    "    p1 += residues_all_apo_bound[i][0]\n",
    "    e1 += residues_all_apo_bound[i][1]\n",
    "    p2 += residues_all_open_closed[i][0]\n",
    "    e2 += residues_all_open_closed[i][1]\n",
    "print(f'{p1/np.sum(v1)} +- {e1}')\n",
    "print(f'{p2/np.sum(v2)} +- {e2}')"
   ]
  },
  {
   "cell_type": "code",
   "execution_count": null,
   "id": "07f7af12",
   "metadata": {},
   "outputs": [],
   "source": []
  },
  {
   "cell_type": "code",
   "execution_count": 203,
   "id": "ff85b9ac",
   "metadata": {},
   "outputs": [],
   "source": [
    "def sort_dict(dic, otype='descending'):\n",
    "    keys = list(dic.keys())\n",
    "    vals = list(dic.values())\n",
    "    inds = np.argsort( np.array(vals)[:,0] )\n",
    "    if otype == 'descending':\n",
    "        inds = inds[::-1]\n",
    "    return {keys[i]:vals[i] for i in inds}\n",
    "\n",
    "def sort_dict2(dic, otype='descending'):\n",
    "    keys = list(dic.keys())\n",
    "    vals = list(dic.values())\n",
    "    inds = np.argsort( np.array(vals) )\n",
    "    if otype == 'descending':\n",
    "        inds = inds[::-1]\n",
    "    return {keys[i]:vals[i] for i in inds}"
   ]
  },
  {
   "cell_type": "code",
   "execution_count": 204,
   "id": "30762040",
   "metadata": {},
   "outputs": [],
   "source": [
    "residues_common_apo_bound = {}\n",
    "residues_specific_apo_bound = {}\n",
    "residues_both_apo_bound = {}\n",
    "residues_both_diff_apo_bound = {}   # comparative difference (if more in apo bound)\n",
    "\n",
    "for res in residues_all_apo_bound.keys():\n",
    "    \n",
    "    if res in np.array(common_apo_bound) and res in np.array(specific_apo_bound):\n",
    "        residues_both_apo_bound[res] = residues_all_apo_bound[res]\n",
    "        residues_both_diff_apo_bound[res] = residues_all_apo_bound[res][0] - residues_all_open_closed[res][0]\n",
    "        \n",
    "    elif res in np.array(common_apo_bound):\n",
    "        residues_common_apo_bound[res] = residues_all_apo_bound[res]\n",
    "        \n",
    "    elif res in np.array(specific_apo_bound):\n",
    "        residues_specific_apo_bound[res] = residues_all_apo_bound[res]\n",
    "        \n",
    "residues_common_apo_bound = sort_dict(residues_common_apo_bound)\n",
    "residues_specific_apo_bound = sort_dict(residues_specific_apo_bound)\n",
    "residues_both_apo_bound = sort_dict(residues_both_apo_bound)\n",
    "residues_both_diff_apo_bound = sort_dict2(residues_both_diff_apo_bound)"
   ]
  },
  {
   "cell_type": "code",
   "execution_count": 206,
   "id": "da27ca68",
   "metadata": {},
   "outputs": [],
   "source": [
    "np.save('saved_files/residues_common_apo_bound.npy',\n",
    "       np.column_stack((list(residues_common_apo_bound.keys()), list(residues_common_apo_bound.values()))))\n",
    "np.save('saved_files/residues_specific_apo_bound.npy',\n",
    "       np.column_stack((list(residues_specific_apo_bound.keys()), list(residues_specific_apo_bound.values()))))\n",
    "np.save('saved_files/residues_both_apo_bound.npy',\n",
    "       np.column_stack((list(residues_both_apo_bound.keys()), list(residues_both_apo_bound.values()))))\n",
    "np.save('saved_files/residues_both_diff_apo_bound.npy',\n",
    "       np.column_stack((list(residues_both_diff_apo_bound.keys()), list(residues_both_diff_apo_bound.values()))))"
   ]
  },
  {
   "cell_type": "code",
   "execution_count": 219,
   "id": "6b60aa19",
   "metadata": {},
   "outputs": [
    {
     "data": {
      "text/plain": [
       "{'154': [0.08776742487041889, 0.006204303158362812],\n",
       " '96': [0.05412389619403083, 0.0031610787578657137],\n",
       " '82': [0.04915652601203666, 0.004653686780024109],\n",
       " '148': [0.041291793916363055, 0.002770311675942854],\n",
       " '89': [0.03120473384365552, 0.002681170346973186],\n",
       " '180': [0.024486318134831087, 0.0035881460962689567],\n",
       " '152': [0.02393329264001156, 0.0029435706336097345],\n",
       " '184': [0.01837065505655127, 0.0026219548607823023],\n",
       " '95': [0.017062233013359157, 0.0016662186521247781],\n",
       " '186': [0.016676067184485496, 0.0016639848054874093],\n",
       " '153': [0.014733181288870469, 0.0015170053021535679],\n",
       " '166': [0.014600998496286915, 0.0030086174737461845],\n",
       " '203': [0.009724641298673377, 0.0010223929995996667],\n",
       " '151': [0.008306040718143025, 0.0012835772124678258],\n",
       " '159': [0.0077779581821415585, 0.0010602197866035668],\n",
       " '179': [0.007194049867147276, 0.0013638704584282555],\n",
       " '195': [0.006990764220348567, 0.0011200151747901414],\n",
       " '185': [0.006808656046762929, 0.000979495422138406],\n",
       " '197': [0.0066655056870476405, 0.0005850024782024567],\n",
       " '189': [0.0054018095446532344, 0.0008453634023959426],\n",
       " '75': [0.00478511279007331, 0.0007458142511998076],\n",
       " '217': [0.00478511279007331, 0.0007458142511998076],\n",
       " '92': [0.004759965717722114, 0.0011952226190860302],\n",
       " '155': [0.003918158221358772, 0.0005446820400857834],\n",
       " '160': [0.003822861762999149, 0.0005684085111892792],\n",
       " '144': [0.0034901198704872533, 0.0007951242066111787],\n",
       " '88': [0.0031732155224571883, 0.00037130592127512715],\n",
       " '177': [0.002955282663306085, 0.0006245096623192179],\n",
       " '165': [0.0029289071407061227, 0.0007513273968792418],\n",
       " '145': [0.0028560896462531344, 0.0005755857583533937],\n",
       " '55': [0.002704781873413722, 0.0005016073531914937],\n",
       " '27': [0.002572623961272345, 0.000484554877521781],\n",
       " '30': [0.0025511755213017346, 0.0005544806295200241],\n",
       " '147': [0.0025453936445342584, 0.00045678083874156963],\n",
       " '191': [0.0024115338161391203, 0.00029081137331200184],\n",
       " '164': [0.0023805809668377715, 0.00043868631151762147],\n",
       " '52': [0.0021902547274442125, 0.0007246084375741516],\n",
       " '170': [0.0021546345051936203, 0.0005298257149666166],\n",
       " '31': [0.0021394938764655726, 0.00043142288764768045],\n",
       " '150': [0.0021200625973714442, 0.0003554589223336403],\n",
       " '198': [0.0019470148943279105, 0.0004041065109473051],\n",
       " '190': [0.0017276319489854487, 0.0002863489117000438],\n",
       " '196': [0.0016421148381238172, 0.0002639383231878171],\n",
       " '25': [0.0015253442244758033, 0.0002377112881785112],\n",
       " '167': [0.0015209775400032545, 0.0003178286757686405],\n",
       " '90': [0.0010380921798185578, 0.0002138722636335858],\n",
       " '59': [0.0009707212318303519, 0.00014793856128156316],\n",
       " '93': [0.0008990779587521116, 0.0002739244486255109],\n",
       " '38': [0.0008945057625953211, 0.0001901274749028908],\n",
       " '79': [0.0008940938320064254, 0.0003425610914394338],\n",
       " '86': [0.0008635468209034348, 0.000294346317545362],\n",
       " '70': [0.0008322255694132138, 9.1141622857152e-05],\n",
       " '94': [0.0008322255694132138, 9.1141622857152e-05],\n",
       " '171': [0.0007742726355125021, 0.00022150168191262525]}"
      ]
     },
     "execution_count": 219,
     "metadata": {},
     "output_type": "execute_result"
    }
   ],
   "source": [
    "residues_specific_apo_bound"
   ]
  },
  {
   "cell_type": "code",
   "execution_count": null,
   "id": "db4f159c",
   "metadata": {},
   "outputs": [],
   "source": []
  },
  {
   "cell_type": "code",
   "execution_count": null,
   "id": "ae1133cc",
   "metadata": {},
   "outputs": [],
   "source": []
  },
  {
   "cell_type": "code",
   "execution_count": 213,
   "id": "401c85e1",
   "metadata": {},
   "outputs": [],
   "source": [
    "def get_radius(res, amin, amax, rmin=0.5, rmax=1):\n",
    "    keys = np.array(list(res.keys()))\n",
    "    vals = np.array(list(res.values()))\n",
    "    if len(vals.shape) == 2:\n",
    "        vals = vals[:,0]\n",
    "    \n",
    "    vals = ( vals - amin ) / amax\n",
    "    vals = vals * (rmax - rmin)  + rmin\n",
    "    \n",
    "    return np.column_stack((keys, vals))\n",
    "\n",
    "\n",
    "\n",
    "\n",
    "dd = np.array(list(residues_all_apo_bound.values()))\n",
    "amin, amax = np.min(dd), np.max(dd)\n",
    "rmin, rmax = 0.1, 1\n",
    "radius_common_apo_bound = get_radius(residues_common_apo_bound, amin, amax, rmin, rmax)\n",
    "radius_specific_apo_bound = get_radius(residues_specific_apo_bound, amin, amax, rmin, rmax)\n",
    "radius_both_apo_bound = get_radius(residues_both_apo_bound, amin, amax, rmin, rmax)\n",
    "radius_both_diff_apo_bound = get_radius(residues_both_diff_apo_bound, amin, amax, rmin, rmax)"
   ]
  },
  {
   "cell_type": "code",
   "execution_count": 215,
   "id": "e754afcd",
   "metadata": {},
   "outputs": [],
   "source": [
    "np.savetxt('plotting_files/radius_common_apo_bound.txt', radius_common_apo_bound, fmt='%s')\n",
    "np.savetxt('plotting_files/radius_specific_apo_bound.txt', radius_specific_apo_bound, fmt='%s')\n",
    "np.savetxt('plotting_files/radius_both_apo_bound.txt', radius_both_apo_bound, fmt='%s')\n",
    "np.savetxt('plotting_files/radius_both_diff_apo_bound.txt', radius_both_diff_apo_bound, fmt='%s')"
   ]
  },
  {
   "cell_type": "code",
   "execution_count": null,
   "id": "79224ce6",
   "metadata": {},
   "outputs": [],
   "source": []
  },
  {
   "cell_type": "code",
   "execution_count": null,
   "id": "f75cb216",
   "metadata": {},
   "outputs": [],
   "source": []
  }
 ],
 "metadata": {
  "kernelspec": {
   "display_name": "Python 3 (ipykernel)",
   "language": "python",
   "name": "python3"
  },
  "language_info": {
   "codemirror_mode": {
    "name": "ipython",
    "version": 3
   },
   "file_extension": ".py",
   "mimetype": "text/x-python",
   "name": "python",
   "nbconvert_exporter": "python",
   "pygments_lexer": "ipython3",
   "version": "3.9.12"
  }
 },
 "nbformat": 4,
 "nbformat_minor": 5
}

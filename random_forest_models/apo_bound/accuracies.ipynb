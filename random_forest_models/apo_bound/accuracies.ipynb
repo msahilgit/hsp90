{
 "cells": [
  {
   "cell_type": "code",
   "execution_count": 1,
   "id": "0b84dd79",
   "metadata": {},
   "outputs": [
    {
     "name": "stderr",
     "output_type": "stream",
     "text": [
      "/home/jayakrishnak/softwares/anaconda/lib/python3.9/site-packages/scipy/__init__.py:146: UserWarning: A NumPy version >=1.16.5 and <1.23.0 is required for this version of SciPy (detected version 1.26.2\n",
      "  warnings.warn(f\"A NumPy version >={np_minversion} and <{np_maxversion}\"\n"
     ]
    }
   ],
   "source": [
    "import numpy as np\n",
    "import matplotlib.pyplot as plt\n",
    "import copy as c\n",
    "import matplotlib as m\n",
    "import pickle as pkl\n",
    "import sklearn as skl\n",
    "from sklearn.ensemble import RandomForestClassifier as rfc\n",
    "from sklearn.model_selection import train_test_split as splt\n",
    "from sklearn.metrics import accuracy_score as acc\n",
    "from sklearn.metrics import confusion_matrix as cfm\n",
    "from tqdm import tqdm"
   ]
  },
  {
   "cell_type": "code",
   "execution_count": null,
   "id": "d8dd37b3",
   "metadata": {},
   "outputs": [],
   "source": []
  },
  {
   "cell_type": "code",
   "execution_count": 2,
   "id": "788a93a0",
   "metadata": {},
   "outputs": [],
   "source": [
    "def get_f1_score(cmt, otype='all'):\n",
    "    f1s = np.zeros((len(cmt)))\n",
    "    for i in range(len(cmt)):\n",
    "        d1 = cmt[i,i] / cmt[i].sum()\n",
    "        d2 = cmt[i,i] / cmt[:,i].sum()\n",
    "        f1s[i] = (2 * d1 * d2) / (d1 + d2)\n",
    "    if otype == 'all':\n",
    "        return f1s\n",
    "    elif otype == 'min':\n",
    "        return np.min(f1s)\n",
    "    elif otype == 'av':\n",
    "        return np.mean(f1s)\n",
    "    else:\n",
    "        return ValueError"
   ]
  },
  {
   "cell_type": "code",
   "execution_count": null,
   "id": "a5b45051",
   "metadata": {},
   "outputs": [],
   "source": []
  },
  {
   "cell_type": "markdown",
   "id": "b114d680",
   "metadata": {},
   "source": [
    "# Protein"
   ]
  },
  {
   "cell_type": "code",
   "execution_count": 75,
   "id": "a4792d4e",
   "metadata": {},
   "outputs": [],
   "source": [
    "fpr = np.load('../../8_protein_conformations_and_apo_states/4_rf/features.npy')\n",
    "lpr = np.load('../../8_protein_conformations_and_apo_states/4_rf/labels.npy')"
   ]
  },
  {
   "cell_type": "code",
   "execution_count": 76,
   "id": "bffb28bc",
   "metadata": {},
   "outputs": [],
   "source": [
    "rpr =  np.load('../../8_protein_conformations_and_apo_states/4_rf/randoms.npy').astype(int)\n",
    "rpr = np.insert(rpr, 0, 0)"
   ]
  },
  {
   "cell_type": "code",
   "execution_count": 77,
   "id": "5f61c6c9",
   "metadata": {},
   "outputs": [
    {
     "name": "stderr",
     "output_type": "stream",
     "text": [
      "100%|█████████████████████████████████████████████████████████████████████████████████████████████████████████████████████████| 50/50 [49:36<00:00, 59.53s/it]\n"
     ]
    }
   ],
   "source": [
    "apr = np.zeros((len(rpr)))\n",
    "cpr = np.zeros((len(rpr), 3))\n",
    "clo_top95 = []\n",
    "cutt = 0.95\n",
    "for i in tqdm(range(len(rpr))):\n",
    "    if i == 0:\n",
    "        clf_ = pkl.load(open('../../8_protein_conformations_and_apo_states/4_rf/model_0.pkl', 'rb'))\n",
    "    else:\n",
    "        clf_ = pkl.load(open(f'../../8_protein_conformations_and_apo_states/4_rf/1_cross_validation/model_{i}.pkl', 'rb'))\n",
    "    \n",
    "    _, xtest, _, ytest = splt(fpr, lpr, test_size=0.3, random_state=rpr[i])\n",
    "    _ = 0+1\n",
    "    \n",
    "    pred_ = clf_.predict(xtest)\n",
    "    \n",
    "    apr[i] = acc(ytest, pred_)\n",
    "    cpr[i] = get_f1_score( cfm(ytest, pred_) )\n",
    "    \n",
    "    fimp = clf_.feature_importances_\n",
    "    clo_top95.append( fimp )\n",
    "    \n",
    "    xtest, ytest, pred_ = 0, 0, 0\n",
    "    \n",
    "clo_top95 = np.array(clo_top95)"
   ]
  },
  {
   "cell_type": "code",
   "execution_count": 78,
   "id": "6cc7589a",
   "metadata": {},
   "outputs": [],
   "source": [
    "fpr, lpr = 0, 0"
   ]
  },
  {
   "cell_type": "code",
   "execution_count": 59,
   "id": "de21f2f9",
   "metadata": {},
   "outputs": [],
   "source": [
    "np.save('accuracies/apr.npy', apr)\n",
    "np.save('accuracies/cpr.npy', cpr)"
   ]
  },
  {
   "cell_type": "code",
   "execution_count": 85,
   "id": "b9a4a685",
   "metadata": {},
   "outputs": [],
   "source": [
    "np.save('saved_files/clo_top95.npy', clo_top95)"
   ]
  },
  {
   "cell_type": "code",
   "execution_count": 60,
   "id": "dd6de624",
   "metadata": {},
   "outputs": [
    {
     "data": {
      "text/plain": [
       "0.9978971197366028"
      ]
     },
     "execution_count": 60,
     "metadata": {},
     "output_type": "execute_result"
    }
   ],
   "source": [
    "np.mean(apr)"
   ]
  },
  {
   "cell_type": "code",
   "execution_count": 61,
   "id": "c2b96b7b",
   "metadata": {},
   "outputs": [
    {
     "data": {
      "text/plain": [
       "5.4362388074779044e-05"
      ]
     },
     "execution_count": 61,
     "metadata": {},
     "output_type": "execute_result"
    }
   ],
   "source": [
    "np.std(apr)"
   ]
  },
  {
   "cell_type": "code",
   "execution_count": 62,
   "id": "6b186a4d",
   "metadata": {},
   "outputs": [
    {
     "data": {
      "text/plain": [
       "0.9853794112480034"
      ]
     },
     "execution_count": 62,
     "metadata": {},
     "output_type": "execute_result"
    }
   ],
   "source": [
    "np.mean(np.min(cpr, axis=1))"
   ]
  },
  {
   "cell_type": "code",
   "execution_count": 63,
   "id": "fbb1b2fa",
   "metadata": {},
   "outputs": [
    {
     "data": {
      "text/plain": [
       "0.0003844490434754958"
      ]
     },
     "execution_count": 63,
     "metadata": {},
     "output_type": "execute_result"
    }
   ],
   "source": [
    "np.std(np.min(cpr, axis=1))"
   ]
  },
  {
   "cell_type": "code",
   "execution_count": null,
   "id": "56dfbeb0",
   "metadata": {},
   "outputs": [],
   "source": []
  },
  {
   "cell_type": "markdown",
   "id": "d70d3278",
   "metadata": {},
   "source": [
    "# binding"
   ]
  },
  {
   "cell_type": "code",
   "execution_count": 79,
   "id": "1a44b9bc",
   "metadata": {},
   "outputs": [],
   "source": [
    "fbinding = np.load('features.npy')\n",
    "lbinding = np.load('labels.npy')"
   ]
  },
  {
   "cell_type": "code",
   "execution_count": 80,
   "id": "346aae75",
   "metadata": {},
   "outputs": [],
   "source": [
    "rbinding = np.load('randoms.npy').astype(int)\n",
    "rbinding = np.insert(rbinding, 0, 0)"
   ]
  },
  {
   "cell_type": "code",
   "execution_count": 81,
   "id": "e2de333b",
   "metadata": {},
   "outputs": [
    {
     "name": "stderr",
     "output_type": "stream",
     "text": [
      "100%|██████████████████████████████████████████████████████████████████████████████████████████████████████████████████████| 50/50 [1:34:39<00:00, 113.59s/it]\n"
     ]
    }
   ],
   "source": [
    "abinding = np.zeros((len(rbinding)))\n",
    "cbinding = np.zeros((len(rbinding), 2))\n",
    "bind_top95 = []\n",
    "\n",
    "for i in tqdm(range(len(rbinding))):\n",
    "    if i == 0:\n",
    "        clf_ = pkl.load(open('model0.pkl', 'rb'))\n",
    "    else:\n",
    "        clf_ = pkl.load(open(f'1_cross_validation/model_{i}.pkl', 'rb'))\n",
    "    \n",
    "    _, xtest, _, ytest = splt(fbinding, lbinding, test_size=0.3, random_state=rbinding[i])\n",
    "    _ = 0+1\n",
    "    \n",
    "    pred_ = clf_.predict(xtest)\n",
    "    \n",
    "    abinding[i] = acc(ytest, pred_)\n",
    "    cbinding[i] = get_f1_score( cfm(ytest, pred_) )\n",
    "    \n",
    "    fimp = clf_.feature_importances_\n",
    "    bind_top95.append( fimp )\n",
    "    \n",
    "    xtest, ytest, pred_ = 0, 0, 0\n",
    "    \n",
    "bind_top95 = np.array(bind_top95)"
   ]
  },
  {
   "cell_type": "code",
   "execution_count": 83,
   "id": "8f6765f9",
   "metadata": {},
   "outputs": [],
   "source": [
    "fbinding, lbinding = 0, 0"
   ]
  },
  {
   "cell_type": "code",
   "execution_count": 80,
   "id": "56ce69bc",
   "metadata": {},
   "outputs": [],
   "source": [
    "np.save('accuracies/abinding.npy', abinding)\n",
    "np.save('accuracies/cbinding.npy', cbinding)"
   ]
  },
  {
   "cell_type": "code",
   "execution_count": 84,
   "id": "7b5fdbf5",
   "metadata": {},
   "outputs": [],
   "source": [
    "np.save('saved_files/bind_top95.npy', bind_top95)"
   ]
  },
  {
   "cell_type": "code",
   "execution_count": null,
   "id": "0362c28e",
   "metadata": {},
   "outputs": [],
   "source": []
  },
  {
   "cell_type": "code",
   "execution_count": null,
   "id": "5dbf2333",
   "metadata": {},
   "outputs": [],
   "source": []
  },
  {
   "cell_type": "code",
   "execution_count": null,
   "id": "b762972c",
   "metadata": {},
   "outputs": [],
   "source": []
  },
  {
   "cell_type": "markdown",
   "id": "1b9c1378",
   "metadata": {},
   "source": [
    "## plotting"
   ]
  },
  {
   "cell_type": "code",
   "execution_count": 3,
   "id": "8a31916d",
   "metadata": {},
   "outputs": [],
   "source": [
    "abinding = np.load('accuracies/abinding.npy')\n",
    "cbinding = np.min(np.load('accuracies/cbinding.npy'), axis=1)\n",
    "apr = np.load('accuracies/apr.npy')\n",
    "cpr = np.min(np.load('accuracies/cpr.npy'), axis=1)"
   ]
  },
  {
   "cell_type": "code",
   "execution_count": 4,
   "id": "70847f45",
   "metadata": {},
   "outputs": [],
   "source": [
    "nreplicas=50"
   ]
  },
  {
   "cell_type": "code",
   "execution_count": 17,
   "id": "ca1caa9e",
   "metadata": {},
   "outputs": [
    {
     "name": "stderr",
     "output_type": "stream",
     "text": [
      "No artists with labels found to put in legend.  Note that artists whose label start with an underscore are ignored when legend() is called with no argument.\n"
     ]
    },
    {
     "data": {
      "image/png": "[encoded data removed]",
      "text/plain": [
       "<Figure size 864x648 with 1 Axes>"
      ]
     },
     "metadata": {
      "needs_background": "light"
     },
     "output_type": "display_data"
    }
   ],
   "source": [
    "fig, ax = plt.subplots(1, figsize=(12,9))\n",
    "#\n",
    "ax.plot(np.arange(nreplicas)+1, cbinding, 'o', color='dodgerblue', markersize=12, mec='black')\n",
    "ax.plot(np.arange(nreplicas)+1, cpr, 'o', color='crimson', markersize=12, mec='black')\n",
    "#\n",
    "ax.plot(np.arange(nreplicas)+1, abinding, 'v', color='dodgerblue', markersize=12, mec='black')\n",
    "ax.plot(np.arange(nreplicas)+1, apr, 'v', color='crimson', markersize=12, mec='black')\n",
    "#\n",
    "ax.set_xlim(0,51)\n",
    "ax.set_ylim(0.98,1.005)\n",
    "ax.tick_params(labelsize=30, length=9, width=2)\n",
    "ax.spines[:].set_linewidth(2)\n",
    "ax.set_yticks([0.98, 0.99, 1.00])\n",
    "ax.xaxis.set_minor_locator(m.ticker.AutoMinorLocator(4))\n",
    "ax.yaxis.set_minor_locator(m.ticker.AutoMinorLocator(4))\n",
    "ax.tick_params(which='minor', length=5, width=2)\n",
    "leg=ax.legend(ncol=2, fontsize=24)\n",
    "leg.get_frame().set_alpha(0)\n",
    "#\n",
    "plt.savefig('accuracies/accuracies.png')\n",
    "plt.show()"
   ]
  },
  {
   "cell_type": "code",
   "execution_count": 24,
   "id": "6422bc3b",
   "metadata": {},
   "outputs": [
    {
     "data": {
      "text/plain": [
       "(0.9978971197366028, 5.4362388074779044e-05)"
      ]
     },
     "execution_count": 24,
     "metadata": {},
     "output_type": "execute_result"
    }
   ],
   "source": [
    "np.mean(apr), np.std(apr)"
   ]
  },
  {
   "cell_type": "code",
   "execution_count": 23,
   "id": "260deb94",
   "metadata": {},
   "outputs": [
    {
     "data": {
      "text/plain": [
       "(0.9853794112480034, 0.0003844490434754958)"
      ]
     },
     "execution_count": 23,
     "metadata": {},
     "output_type": "execute_result"
    }
   ],
   "source": [
    "np.mean(cpr), np.std(cpr)"
   ]
  },
  {
   "cell_type": "code",
   "execution_count": 37,
   "id": "97426572",
   "metadata": {},
   "outputs": [
    {
     "data": {
      "text/plain": [
       "(0.9999997283436861, 4.63112271204665e-07)"
      ]
     },
     "execution_count": 37,
     "metadata": {},
     "output_type": "execute_result"
    }
   ],
   "source": [
    "np.mean(abinding), np.std(abinding)"
   ]
  },
  {
   "cell_type": "code",
   "execution_count": 38,
   "id": "1faeeadb",
   "metadata": {},
   "outputs": [
    {
     "data": {
      "text/plain": [
       "(0.9999996666927907, 5.683041728231374e-07)"
      ]
     },
     "execution_count": 38,
     "metadata": {},
     "output_type": "execute_result"
    }
   ],
   "source": [
    "np.mean(cbinding), np.std(cbinding)"
   ]
  },
  {
   "cell_type": "code",
   "execution_count": null,
   "id": "9c7dfacd",
   "metadata": {},
   "outputs": [],
   "source": []
  },
  {
   "cell_type": "code",
   "execution_count": 31,
   "id": "817119f8",
   "metadata": {},
   "outputs": [],
   "source": [
    "clo_top95 = np.load('saved_files/clo_top95.npy')\n",
    "bind_top95 = np.load('saved_files/bind_top95.npy')"
   ]
  },
  {
   "cell_type": "code",
   "execution_count": 32,
   "id": "b8b76f19",
   "metadata": {},
   "outputs": [],
   "source": [
    "means_clo_top95 = np.mean(clo_top95, axis=0)\n",
    "std_clo_top95 = np.std(clo_top95, axis=0)\n",
    "\n",
    "inds = means_clo_top95.argsort()[::-1]\n",
    "means_clo_top95 = means_clo_top95[inds]\n",
    "std_clo_top95 = std_clo_top95[inds]\n",
    "\n",
    "cumsum_clo_top95 = np.cumsum(means_clo_top95)"
   ]
  },
  {
   "cell_type": "code",
   "execution_count": 33,
   "id": "93bbf5c0",
   "metadata": {},
   "outputs": [],
   "source": [
    "means_bind_top95 = np.mean(bind_top95, axis=0)\n",
    "std_bind_top95 = np.std(bind_top95, axis=0)\n",
    "\n",
    "inds = means_bind_top95.argsort()[::-1]\n",
    "means_bind_top95 = means_bind_top95[inds]\n",
    "std_bind_top95 = std_bind_top95[inds]\n",
    "\n",
    "cumsum_bind_top95 = np.cumsum(means_bind_top95)"
   ]
  },
  {
   "cell_type": "code",
   "execution_count": 36,
   "id": "70c098fa",
   "metadata": {},
   "outputs": [
    {
     "data": {
      "image/png": "[encoded data removed]",
      "text/plain": [
       "<Figure size 864x648 with 1 Axes>"
      ]
     },
     "metadata": {
      "needs_background": "light"
     },
     "output_type": "display_data"
    }
   ],
   "source": [
    "fig, ax = plt.subplots(1, figsize=(12,9))\n",
    "ax.plot(cumsum_bind_top95, color='dodgerblue', lw=4, label=u'Apo \\u2192 Bound')\n",
    "ax.plot(cumsum_clo_top95, color='crimson', lw=4, label=u'Loop-in \\u2192 Loop-out')\n",
    "ax.plot([0,1200], [0.95,0.95], '--', lw=3, color='black')\n",
    "ax.set_xlim(0,1200)\n",
    "ax.set_ylim(0,1.05)\n",
    "ax.tick_params(labelsize=30, length=9, width=2)\n",
    "ax.spines[:].set_linewidth(2)\n",
    "# ax.set_yticks([0.98, 0.99, 1.00])\n",
    "ax.set_xticks([0,400,800,1200])\n",
    "ax.xaxis.set_minor_locator(m.ticker.AutoMinorLocator(4))\n",
    "ax.yaxis.set_minor_locator(m.ticker.AutoMinorLocator(4))\n",
    "ax.tick_params(which='minor', length=5, width=2)\n",
    "leg=ax.legend(fontsize=24, loc=4)\n",
    "leg.get_frame().set_alpha(0)\n",
    "#\n",
    "plt.savefig('accuracies/fimp.pdf')\n",
    "plt.show()"
   ]
  },
  {
   "cell_type": "code",
   "execution_count": null,
   "id": "99f92eeb",
   "metadata": {},
   "outputs": [],
   "source": []
  }
 ],
 "metadata": {
  "kernelspec": {
   "display_name": "Python 3 (ipykernel)",
   "language": "python",
   "name": "python3"
  },
  "language_info": {
   "codemirror_mode": {
    "name": "ipython",
    "version": 3
   },
   "file_extension": ".py",
   "mimetype": "text/x-python",
   "name": "python",
   "nbconvert_exporter": "python",
   "pygments_lexer": "ipython3",
   "version": "3.9.12"
  }
 },
 "nbformat": 4,
 "nbformat_minor": 5
}

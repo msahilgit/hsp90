{
 "cells": [
  {
   "cell_type": "code",
   "execution_count": 1,
   "id": "1adf4ba2",
   "metadata": {},
   "outputs": [],
   "source": [
    "import numpy as np\n",
    "import copy as c"
   ]
  },
  {
   "cell_type": "markdown",
   "id": "53bc354b",
   "metadata": {},
   "source": [
    "#  resid 9-236"
   ]
  },
  {
   "cell_type": "code",
   "execution_count": 25,
   "id": "83f811e3",
   "metadata": {},
   "outputs": [],
   "source": [
    "pdb = {}\n",
    "for line in open('apo_closed.pdb','r'):\n",
    "    items = line.strip().split()\n",
    "    if items[0] == 'ATOM' and items[2] == 'CA':\n",
    "        pdb[int(items[4])] = np.array(items[5:8]).astype('float')"
   ]
  },
  {
   "cell_type": "code",
   "execution_count": null,
   "id": "7c32b144",
   "metadata": {},
   "outputs": [],
   "source": []
  },
  {
   "cell_type": "code",
   "execution_count": 33,
   "id": "fc48fcaf",
   "metadata": {},
   "outputs": [],
   "source": [
    "def dist(r1,r2):\n",
    "    return np.linalg.norm(pdb[r1]-pdb[r2])"
   ]
  },
  {
   "cell_type": "code",
   "execution_count": null,
   "id": "d644f1a8",
   "metadata": {},
   "outputs": [],
   "source": []
  },
  {
   "cell_type": "code",
   "execution_count": 54,
   "id": "d3b1665d",
   "metadata": {},
   "outputs": [
    {
     "data": {
      "text/plain": [
       "1194"
      ]
     },
     "execution_count": 54,
     "metadata": {},
     "output_type": "execute_result"
    }
   ],
   "source": [
    "cpairs = []\n",
    "p=0\n",
    "for i in range(18,221-3):\n",
    "    for j in range(i+4,221):\n",
    "        dd = dist(i,j)\n",
    "        if dd <= 10:\n",
    "            cpairs.append([i,j])\n",
    "            p+=1\n",
    "p"
   ]
  },
  {
   "cell_type": "code",
   "execution_count": 56,
   "id": "216051f7",
   "metadata": {},
   "outputs": [],
   "source": [
    "np.savetxt('contact_pairs.txt',cpairs,fmt='%d')"
   ]
  },
  {
   "cell_type": "code",
   "execution_count": null,
   "id": "0e3d47f5",
   "metadata": {},
   "outputs": [],
   "source": []
  },
  {
   "cell_type": "code",
   "execution_count": null,
   "id": "a1998a9d",
   "metadata": {},
   "outputs": [],
   "source": []
  },
  {
   "cell_type": "code",
   "execution_count": null,
   "id": "f6a4884f",
   "metadata": {},
   "outputs": [],
   "source": []
  }
 ],
 "metadata": {
  "kernelspec": {
   "display_name": "Python 3 (ipykernel)",
   "language": "python",
   "name": "python3"
  },
  "language_info": {
   "codemirror_mode": {
    "name": "ipython",
    "version": 3
   },
   "file_extension": ".py",
   "mimetype": "text/x-python",
   "name": "python",
   "nbconvert_exporter": "python",
   "pygments_lexer": "ipython3",
   "version": "3.9.12"
  }
 },
 "nbformat": 4,
 "nbformat_minor": 5
}

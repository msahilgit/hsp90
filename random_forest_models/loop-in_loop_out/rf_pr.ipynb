{
 "cells": [
  {
   "cell_type": "code",
   "execution_count": 3,
   "id": "de44be0f",
   "metadata": {},
   "outputs": [
    {
     "name": "stderr",
     "output_type": "stream",
     "text": [
      "/home/jayakrishnak/softwares/anaconda/lib/python3.9/site-packages/scipy/__init__.py:146: UserWarning: A NumPy version >=1.16.5 and <1.23.0 is required for this version of SciPy (detected version 1.23.0\n",
      "  warnings.warn(f\"A NumPy version >={np_minversion} and <{np_maxversion}\"\n"
     ]
    },
    {
     "name": "stdout",
     "output_type": "stream",
     "text": [
      "NOTE: Some configuration directories are not set up yet: \n",
      "\t/home/jayakrishnak/.gromacswrapper\n",
      "\t/home/jayakrishnak/.gromacswrapper/qscripts\n",
      "\t/home/jayakrishnak/.gromacswrapper/templates\n",
      "NOTE: You can create the configuration file and directories with:\n",
      "\t>>> import gromacs\n",
      "\t>>> gromacs.config.setup()\n"
     ]
    }
   ],
   "source": [
    "import numpy as np\n",
    "import copy as c\n",
    "import matplotlib as m\n",
    "import matplotlib.pyplot as plt\n",
    "import pickle as pkl\n",
    "import sklearn as skl\n",
    "from sklearn.model_selection import train_test_split as splt\n",
    "import sklearn.metrics as mtr\n",
    "from sklearn.metrics import accuracy_score as acc\n",
    "from sklearn.metrics import confusion_matrix as cfm\n",
    "from sklearn.ensemble import RandomForestClassifier as rfc\n",
    "import scipy.stats as sct\n",
    "import scipy.optimize as sco\n",
    "import gromacs as gmx\n",
    "from tqdm import tqdm\n",
    "from itertools import combinations"
   ]
  },
  {
   "cell_type": "markdown",
   "id": "c1001ba3",
   "metadata": {},
   "source": [
    "# Datas"
   ]
  },
  {
   "cell_type": "code",
   "execution_count": 2,
   "id": "257a6671",
   "metadata": {},
   "outputs": [],
   "source": [
    "cpairs = np.loadtxt('../1_contact_pairs/contact_pairs.txt',dtype='str')"
   ]
  },
  {
   "cell_type": "code",
   "execution_count": 14,
   "id": "2b0d8c95",
   "metadata": {},
   "outputs": [],
   "source": [
    "labels = np.concatenate(np.load('../3_data_labels/labels.npy',allow_pickle=True))"
   ]
  },
  {
   "cell_type": "code",
   "execution_count": 18,
   "id": "19f9ea32",
   "metadata": {},
   "outputs": [
    {
     "name": "stderr",
     "output_type": "stream",
     "text": [
      "100%|███████████████████████████████████████████████████████████████████████████████████████████████████████████████████████| 3/3 [1:34:50<00:00, 1896.83s/it]\n"
     ]
    }
   ],
   "source": [
    "features = []\n",
    "for t in tqdm([1,2,3]):\n",
    "    for s in ['open','closed']:\n",
    "        pfeatures = []\n",
    "        for cp in cpairs:\n",
    "            dd = np.load('../2_mindist_files/numpy_converted_files/mindist_r'+cp[0]+'_r'+cp[1]+'_apo_'+s+'_'+str(t)+'.npy')\n",
    "            if len(pfeatures) == 0:\n",
    "                pfeatures = c.deepcopy(dd)\n",
    "            else:\n",
    "                pfeatures = np.column_stack((pfeatures,dd))\n",
    "                \n",
    "        if len(features) == 0:\n",
    "            features = c.deepcopy(pfeatures)\n",
    "        else:\n",
    "            features = np.concatenate((features,pfeatures))"
   ]
  },
  {
   "cell_type": "code",
   "execution_count": null,
   "id": "65687ab6",
   "metadata": {},
   "outputs": [],
   "source": []
  },
  {
   "cell_type": "code",
   "execution_count": 20,
   "id": "6fb16e0e",
   "metadata": {},
   "outputs": [],
   "source": [
    "np.save('features.npy',features)\n",
    "np.save('labels.npy',labels)"
   ]
  },
  {
   "cell_type": "code",
   "execution_count": null,
   "id": "b58a1b85",
   "metadata": {},
   "outputs": [],
   "source": []
  },
  {
   "cell_type": "markdown",
   "id": "bf7b8e7a",
   "metadata": {},
   "source": [
    "# RF"
   ]
  },
  {
   "cell_type": "code",
   "execution_count": 43,
   "id": "54f54544",
   "metadata": {},
   "outputs": [],
   "source": [
    "ftrain, ftest, ltrain, ltest = splt(features, labels, test_size=0.3, random_state=0)"
   ]
  },
  {
   "cell_type": "code",
   "execution_count": 32,
   "id": "0a99ad68",
   "metadata": {},
   "outputs": [],
   "source": [
    "clf0 = rfc(n_estimators=1000, n_jobs=16, random_state=0)"
   ]
  },
  {
   "cell_type": "code",
   "execution_count": 33,
   "id": "eab6c712",
   "metadata": {},
   "outputs": [
    {
     "data": {
      "text/plain": [
       "RandomForestClassifier(n_estimators=1000, n_jobs=16, random_state=0)"
      ]
     },
     "execution_count": 33,
     "metadata": {},
     "output_type": "execute_result"
    }
   ],
   "source": [
    "clf0.fit(ftrain, ltrain)"
   ]
  },
  {
   "cell_type": "code",
   "execution_count": 38,
   "id": "e5ae820a",
   "metadata": {},
   "outputs": [],
   "source": [
    "pkl.dump(clf0,open('model_0.pkl','wb'))"
   ]
  },
  {
   "cell_type": "code",
   "execution_count": 44,
   "id": "d5111136",
   "metadata": {},
   "outputs": [],
   "source": [
    "predicted_train0 = clf0.predict(ftrain)\n",
    "predicted_test0 = clf0.predict(ftest)"
   ]
  },
  {
   "cell_type": "code",
   "execution_count": 35,
   "id": "282deb0a",
   "metadata": {},
   "outputs": [
    {
     "data": {
      "text/plain": [
       "1.0"
      ]
     },
     "execution_count": 35,
     "metadata": {},
     "output_type": "execute_result"
    }
   ],
   "source": [
    "acc(ltrain,predicted_train0)"
   ]
  },
  {
   "cell_type": "code",
   "execution_count": 36,
   "id": "fb2b118a",
   "metadata": {},
   "outputs": [
    {
     "data": {
      "text/plain": [
       "0.9979339701442925"
      ]
     },
     "execution_count": 36,
     "metadata": {},
     "output_type": "execute_result"
    }
   ],
   "source": [
    "acc(ltest,predicted_test0)"
   ]
  },
  {
   "cell_type": "code",
   "execution_count": 45,
   "id": "42e5c643",
   "metadata": {},
   "outputs": [
    {
     "data": {
      "text/plain": [
       "array([[321832,     65,      0],\n",
       "       [   152, 332626,    712],\n",
       "       [     0,    513,  42057]])"
      ]
     },
     "execution_count": 45,
     "metadata": {},
     "output_type": "execute_result"
    }
   ],
   "source": [
    "cfm(ltest, predicted_test0)"
   ]
  },
  {
   "cell_type": "code",
   "execution_count": null,
   "id": "bd92d0eb",
   "metadata": {},
   "outputs": [],
   "source": []
  },
  {
   "cell_type": "markdown",
   "id": "ce103160",
   "metadata": {},
   "source": [
    "## for cross validation"
   ]
  },
  {
   "cell_type": "code",
   "execution_count": 39,
   "id": "142db393",
   "metadata": {},
   "outputs": [],
   "source": [
    "n=49\n",
    "randoms=np.zeros((n))\n",
    "for i in range(n):\n",
    "    randoms[i] = np.random.randint(1,1000)"
   ]
  },
  {
   "cell_type": "code",
   "execution_count": 41,
   "id": "d7933cdc",
   "metadata": {},
   "outputs": [
    {
     "data": {
      "text/plain": [
       "array([115., 283.,  48., 238., 286., 781.,  43., 819., 392.,   4., 580.,\n",
       "        37., 290., 932., 985., 238., 850., 637., 979., 803., 676., 496.,\n",
       "       925., 735., 898., 722., 164., 234., 680.,  35., 762., 350., 646.,\n",
       "       223., 672., 218., 680., 401., 689., 668., 897., 380., 861., 273.,\n",
       "       356., 632., 146., 299., 100.])"
      ]
     },
     "execution_count": 41,
     "metadata": {},
     "output_type": "execute_result"
    }
   ],
   "source": [
    "randoms"
   ]
  },
  {
   "cell_type": "code",
   "execution_count": 46,
   "id": "1f026b4a",
   "metadata": {},
   "outputs": [],
   "source": [
    "np.save('randoms.npy',randoms)"
   ]
  },
  {
   "cell_type": "code",
   "execution_count": null,
   "id": "17bdf4d7",
   "metadata": {},
   "outputs": [],
   "source": []
  },
  {
   "cell_type": "code",
   "execution_count": null,
   "id": "c6b4f3e1",
   "metadata": {},
   "outputs": [],
   "source": []
  },
  {
   "cell_type": "code",
   "execution_count": null,
   "id": "b8e9a8b9",
   "metadata": {},
   "outputs": [],
   "source": []
  },
  {
   "cell_type": "markdown",
   "id": "aff40516",
   "metadata": {},
   "source": [
    "# analysis"
   ]
  },
  {
   "cell_type": "code",
   "execution_count": 64,
   "id": "7cee58a3",
   "metadata": {},
   "outputs": [],
   "source": [
    "cpairs = np.loadtxt('../1_contact_pairs/contact_pairs.txt', dtype=str)"
   ]
  },
  {
   "cell_type": "code",
   "execution_count": 65,
   "id": "337bf117",
   "metadata": {},
   "outputs": [
    {
     "name": "stderr",
     "output_type": "stream",
     "text": [
      "100%|█████████████████████████████████████████████████████████████████████████████████████████████████████████████████████████| 50/50 [01:03<00:00,  1.27s/it]\n",
      "/tmp/ipykernel_22337/3025286821.py:16: VisibleDeprecationWarning: Creating an ndarray from ragged nested sequences (which is a list-or-tuple of lists-or-tuples-or ndarrays with different lengths or shapes) is deprecated. If you meant to do this, you must specify 'dtype=object' when creating the ndarray.\n",
      "  top95_features = np.array(top95_features)\n"
     ]
    }
   ],
   "source": [
    "top95_features = []\n",
    "cutoff = 0.95\n",
    "\n",
    "for m in tqdm(range(50)):\n",
    "    \n",
    "    if m==0: clf = pkl.load(open('model_0.pkl','rb'))\n",
    "    else: clf = pkl.load(open(f'1_cross_validation/model_{m}.pkl', 'rb'))\n",
    "        \n",
    "    fimportances = clf.feature_importances_\n",
    "    findexes = fimportances.argsort()[::-1]\n",
    "    fimportances = fimportances[findexes]\n",
    "    lindex = np.where( np.cumsum(fimportances) >= cutoff )[0][0]\n",
    "    fimportances = np.column_stack(( findexes[:lindex], fimportances[:lindex] ))\n",
    "    top95_features.append(fimportances)\n",
    "    \n",
    "top95_features = np.array(top95_features)"
   ]
  },
  {
   "cell_type": "code",
   "execution_count": 66,
   "id": "09595f6e",
   "metadata": {},
   "outputs": [],
   "source": [
    "nreplicas = 50\n",
    "\n",
    "common_top95_features = []\n",
    "dd = np.concatenate((top95_features))[:,0].astype(int)\n",
    "for i in np.unique(dd):\n",
    "    if len(np.where(dd == i)[0]) == nreplicas:\n",
    "        common_top95_features.append(i)\n",
    "\n",
    "nfeatures_top95 = []\n",
    "diff_importances_top95 = []\n",
    "for i in range(nreplicas):\n",
    "    nfeatures_top95.append( top95_features[i].shape[0] )\n",
    "    \n",
    "    ss = 0\n",
    "    for j in top95_features[i]:\n",
    "        if j[0] not in common_top95_features:\n",
    "            ss += j[1]\n",
    "    diff_importances_top95.append(ss/0.95)\n",
    "    \n",
    "nfeatures_top95 = [ np.mean(nfeatures_top95), np.std(nfeatures_top95) ]\n",
    "diff_importances_top95 = [ np.mean(diff_importances_top95), np.std(diff_importances_top95) ]"
   ]
  },
  {
   "cell_type": "code",
   "execution_count": 67,
   "id": "0b824140",
   "metadata": {},
   "outputs": [
    {
     "data": {
      "text/plain": [
       "[245.22, 2.0908371529126795]"
      ]
     },
     "execution_count": 67,
     "metadata": {},
     "output_type": "execute_result"
    }
   ],
   "source": [
    "nfeatures_top95"
   ]
  },
  {
   "cell_type": "code",
   "execution_count": 68,
   "id": "2226de8f",
   "metadata": {},
   "outputs": [
    {
     "data": {
      "text/plain": [
       "[0.04165230795571352, 0.001753723014654573]"
      ]
     },
     "execution_count": 68,
     "metadata": {},
     "output_type": "execute_result"
    }
   ],
   "source": [
    "diff_importances_top95"
   ]
  },
  {
   "cell_type": "code",
   "execution_count": 69,
   "id": "bc7928e1",
   "metadata": {},
   "outputs": [],
   "source": [
    "all_top95_features = {}\n",
    "for i in range(nreplicas):\n",
    "    for j in top95_features[i]:\n",
    "        if int(j[0]) not in all_top95_features.keys():\n",
    "            all_top95_features[int(j[0])] = []\n",
    "        all_top95_features[int(j[0])].append(j[1])\n",
    "\n",
    "major_top95_features = {}\n",
    "for key in all_top95_features:\n",
    "    if len(all_top95_features[key]) > 45:\n",
    "        major_top95_features[key] = [ np.mean(all_top95_features[key]), np.std(all_top95_features[key]) ]"
   ]
  },
  {
   "cell_type": "code",
   "execution_count": 27,
   "id": "59bc56b3",
   "metadata": {},
   "outputs": [
    {
     "data": {
      "text/plain": [
       "206"
      ]
     },
     "execution_count": 27,
     "metadata": {},
     "output_type": "execute_result"
    }
   ],
   "source": [
    "len(major_top95_features)"
   ]
  },
  {
   "cell_type": "code",
   "execution_count": null,
   "id": "2cbe9226",
   "metadata": {},
   "outputs": [],
   "source": []
  },
  {
   "cell_type": "code",
   "execution_count": 9,
   "id": "57df04e8",
   "metadata": {},
   "outputs": [],
   "source": [
    "features = np.load('features.npy')"
   ]
  },
  {
   "cell_type": "code",
   "execution_count": 10,
   "id": "8a779dd9",
   "metadata": {},
   "outputs": [],
   "source": [
    "labels = np.load('labels.npy')"
   ]
  },
  {
   "cell_type": "code",
   "execution_count": 14,
   "id": "65c5d379",
   "metadata": {},
   "outputs": [],
   "source": [
    "major_features95 = features[:, list(major_top95_features.keys())]\n",
    "features = 0"
   ]
  },
  {
   "cell_type": "code",
   "execution_count": 15,
   "id": "76b230c5",
   "metadata": {},
   "outputs": [],
   "source": [
    "features95_closed = major_features95[ np.where(labels == 0)[0] ]\n",
    "features95_int = major_features95[ np.where(labels == 1)[0] ]\n",
    "features95_open = major_features95[ np.where(labels == 2)[0] ]\n",
    "\n",
    "major_features95 = 0"
   ]
  },
  {
   "cell_type": "code",
   "execution_count": 16,
   "id": "c69a2805",
   "metadata": {},
   "outputs": [
    {
     "name": "stderr",
     "output_type": "stream",
     "text": [
      "100%|███████████████████████████████████████████████████████████████████████████████████████████████████████████████████████| 206/206 [00:23<00:00,  8.82it/s]\n"
     ]
    }
   ],
   "source": [
    "means95_open = np.zeros(( len(major_top95_features.keys()) ))\n",
    "means95_int = np.zeros(( len(major_top95_features.keys()) ))\n",
    "means95_closed = np.zeros(( len(major_top95_features.keys()) ))\n",
    "\n",
    "for i in tqdm(range(len(major_top95_features.keys()))):\n",
    "    means95_closed[i] = np.mean(features95_closed[:,i])\n",
    "    means95_int[i] = np.mean(features95_int[:,i])\n",
    "    means95_open[i] = np.mean(features95_open[:,i])"
   ]
  },
  {
   "cell_type": "code",
   "execution_count": null,
   "id": "0e85a9b8",
   "metadata": {},
   "outputs": [],
   "source": []
  },
  {
   "cell_type": "code",
   "execution_count": 46,
   "id": "85b2d97e",
   "metadata": {},
   "outputs": [
    {
     "data": {
      "image/png": "[encoded data removed]",
      "text/plain": [
       "<Figure size 1152x1152 with 3 Axes>"
      ]
     },
     "metadata": {
      "needs_background": "light"
     },
     "output_type": "display_data"
    }
   ],
   "source": [
    "fig,ax = plt.subplots(3,1, figsize=(16,16), sharex=True, sharey=True)\n",
    "plt.subplots_adjust(hspace=0.1)\n",
    "ax[0].set_xlim(0,206)\n",
    "k=-1\n",
    "for i in combinations(['closed', 'int', 'open'], 2):\n",
    "    k+=1\n",
    "    dd = eval(f'means95_{i[0]}') - eval(f'means95_{i[1]}')\n",
    "    ax[k].bar(range(len(major_top95_features.keys())), dd, color='crimson')\n",
    "    ax[k].spines[:].set_linewidth(2)\n",
    "    ax[k].tick_params(labelsize=24, length=7, width=2)\n",
    "    ax[k].text(140, -0.75, f'{i[0]} -> {i[1]}', fontsize=24)\n",
    "plt.show()"
   ]
  },
  {
   "cell_type": "code",
   "execution_count": null,
   "id": "8a3c1ad5",
   "metadata": {},
   "outputs": [],
   "source": []
  },
  {
   "cell_type": "code",
   "execution_count": null,
   "id": "1f2c76d5",
   "metadata": {},
   "outputs": [],
   "source": []
  },
  {
   "cell_type": "code",
   "execution_count": 21,
   "id": "8874d561",
   "metadata": {},
   "outputs": [],
   "source": [
    "np.save('saved_files/major_top95_features.npy' ,np.column_stack(( list(major_top95_features.keys()) , list(major_top95_features.values()) )) )"
   ]
  },
  {
   "cell_type": "code",
   "execution_count": 23,
   "id": "d295c78a",
   "metadata": {},
   "outputs": [],
   "source": [
    "np.save('saved_files/means_closed.npy', means95_closed)\n",
    "np.save('saved_files/means_int.npy', means95_int)\n",
    "np.save('saved_files/means_open.npy', means95_open)"
   ]
  },
  {
   "cell_type": "code",
   "execution_count": null,
   "id": "0ed880bb",
   "metadata": {},
   "outputs": [],
   "source": []
  },
  {
   "cell_type": "code",
   "execution_count": null,
   "id": "90b3fd99",
   "metadata": {},
   "outputs": [],
   "source": []
  }
 ],
 "metadata": {
  "kernelspec": {
   "display_name": "Python 3 (ipykernel)",
   "language": "python",
   "name": "python3"
  },
  "language_info": {
   "codemirror_mode": {
    "name": "ipython",
    "version": 3
   },
   "file_extension": ".py",
   "mimetype": "text/x-python",
   "name": "python",
   "nbconvert_exporter": "python",
   "pygments_lexer": "ipython3",
   "version": "3.9.12"
  }
 },
 "nbformat": 4,
 "nbformat_minor": 5
}

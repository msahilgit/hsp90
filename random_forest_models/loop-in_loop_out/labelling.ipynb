{
 "cells": [
  {
   "cell_type": "code",
   "execution_count": 1,
   "id": "21948fcb",
   "metadata": {},
   "outputs": [
    {
     "name": "stderr",
     "output_type": "stream",
     "text": [
      "/home/jayakrishnak/softwares/anaconda/lib/python3.9/site-packages/scipy/__init__.py:146: UserWarning: A NumPy version >=1.16.5 and <1.23.0 is required for this version of SciPy (detected version 1.23.0\n",
      "  warnings.warn(f\"A NumPy version >={np_minversion} and <{np_maxversion}\"\n"
     ]
    }
   ],
   "source": [
    "import numpy as np\n",
    "import copy as c\n",
    "import pyemma\n",
    "import pyemma.msm as msm"
   ]
  },
  {
   "cell_type": "code",
   "execution_count": 8,
   "id": "77c10218",
   "metadata": {},
   "outputs": [
    {
     "name": "stdout",
     "output_type": "stream",
     "text": [
      "\n",
      "\n",
      "\n",
      "\n",
      "\n",
      "\n",
      "for the apo msm of protein conformations :::\n",
      "\n",
      "\n",
      "\n",
      "the trajs are :::\n",
      "\n",
      "\t\tapo_closed_1.xtc  apo_closed_2.xtc  apo_closed_3.xtc\n",
      "\n",
      "\t\tapo_open_1.xtc  apo_open_2.xtc  apo_open_3.xtc\n",
      "\n",
      "\n",
      "\n",
      "\t\ta total of 23.26 us\n",
      "\n",
      "\n",
      "\n",
      "\t\tpath = 1_pbc_trajs/individual_trajs   ( /home/jayakrishnak/hsp90/msahil/1_pbc_trajs/individual_trajs/ )\n",
      "\n",
      "\n",
      "\n",
      "\t\ttopology :: apo_closed/open.pdb\n",
      "\n",
      "\n",
      "\n",
      "\n",
      "\n",
      "\n",
      "\n",
      "\n",
      "\n",
      "########\n",
      "\n",
      "###\tAS OF 11-Aug-2022 || final - 1_lid_3rd_res_mindist/1_tica/msm_tica500_top2_clus50/lag1000/pcca6/\n",
      "\n",
      "#######\n",
      "\n",
      "\t\tAt tica500-top2-clus50 :: for lag 500,800 and 1000 :: converged at pcca6\n",
      "\n"
     ]
    }
   ],
   "source": [
    "for i in open('../../5_gateway/3_msm/1_apo/0_readme','r'):\n",
    "    print(i)"
   ]
  },
  {
   "cell_type": "code",
   "execution_count": 13,
   "id": "d6d2bf81",
   "metadata": {},
   "outputs": [],
   "source": [
    "dtrj = np.load('../../5_gateway/3_msm/1_apo/1_lid_3rd_res_mindist/1_tica/dtrajs_tica500_top2_kmean50.npy',allow_pickle=True)"
   ]
  },
  {
   "cell_type": "code",
   "execution_count": 15,
   "id": "99d4c922",
   "metadata": {},
   "outputs": [],
   "source": [
    "model_msm = msm.estimate_markov_model(list(dtrj),lag=1000)"
   ]
  },
  {
   "cell_type": "code",
   "execution_count": 17,
   "id": "24de9d2a",
   "metadata": {},
   "outputs": [
    {
     "data": {
      "text/plain": [
       "PCCA(P=array([[0.73775, 0.     , ..., 0.     , 0.00185],\n",
       "       [0.     , 0.33811, ..., 0.     , 0.     ],\n",
       "       ...,\n",
       "       [0.     , 0.     , ..., 0.40473, 0.     ],\n",
       "       [0.00129, 0.     , ..., 0.     , 0.48627]]),\n",
       "   m=6)"
      ]
     },
     "execution_count": 17,
     "metadata": {},
     "output_type": "execute_result"
    }
   ],
   "source": [
    "model_msm.pcca(6)"
   ]
  },
  {
   "cell_type": "code",
   "execution_count": 23,
   "id": "22b7d0ec",
   "metadata": {},
   "outputs": [
    {
     "name": "stdout",
     "output_type": "stream",
     "text": [
      "0.022416175106975633\n",
      "0.019186911026539577\n",
      "0.025736769703077082\n",
      "0.060159900318384446\n",
      "0.10274994736827728\n",
      "0.7697502964767461\n"
     ]
    }
   ],
   "source": [
    "for i in model_msm.metastable_sets:\n",
    "    print(model_msm.pi[i].sum())"
   ]
  },
  {
   "cell_type": "code",
   "execution_count": 27,
   "id": "76d83511",
   "metadata": {},
   "outputs": [
    {
     "data": {
      "text/plain": [
       "array([5, 5, 5, ..., 2, 2, 2])"
      ]
     },
     "execution_count": 27,
     "metadata": {},
     "output_type": "execute_result"
    }
   ],
   "source": [
    "metastable_trj = model_msm.metastable_assignments[np.concatenate(model_msm.dtrajs_active)]\n",
    "metastable_trj"
   ]
  },
  {
   "cell_type": "markdown",
   "id": "a7a594ea",
   "metadata": {},
   "source": [
    "<font size=4> <br><br>\n",
    "    the labelling is as follows: <br>\n",
    "    As per APO MSM metastable states <br><br>\n",
    "    <center><font size=5>\n",
    "        closed {C, C1, C2, C3} - 0 <br><br>\n",
    "        Intermeidate {I} - 1 <br><br>\n",
    "        Open {O} - 2 <br><br><br>"
   ]
  },
  {
   "cell_type": "code",
   "execution_count": 28,
   "id": "25432f23",
   "metadata": {},
   "outputs": [],
   "source": [
    "k=0\n",
    "ftrj = c.deepcopy(dtrj)\n",
    "for i in range(len(dtrj)):\n",
    "    for j in range(len(dtrj[i])):\n",
    "        if metastable_trj[k] <= 3:\n",
    "            ftrj[i][j] = 0\n",
    "        elif metastable_trj[k] == 4:\n",
    "            ftrj[i][j] = 2\n",
    "        elif metastable_trj[k] ==5:\n",
    "            ftrj[i][j] = 1\n",
    "        k += 1"
   ]
  },
  {
   "cell_type": "code",
   "execution_count": null,
   "id": "410b40fc",
   "metadata": {},
   "outputs": [],
   "source": []
  },
  {
   "cell_type": "code",
   "execution_count": 40,
   "id": "9e128621",
   "metadata": {},
   "outputs": [],
   "source": [
    "np.save('labels.npy',ftrj)"
   ]
  },
  {
   "cell_type": "code",
   "execution_count": null,
   "id": "7ae7e948",
   "metadata": {},
   "outputs": [],
   "source": []
  }
 ],
 "metadata": {
  "kernelspec": {
   "display_name": "Python 3 (ipykernel)",
   "language": "python",
   "name": "python3"
  },
  "language_info": {
   "codemirror_mode": {
    "name": "ipython",
    "version": 3
   },
   "file_extension": ".py",
   "mimetype": "text/x-python",
   "name": "python",
   "nbconvert_exporter": "python",
   "pygments_lexer": "ipython3",
   "version": "3.9.12"
  }
 },
 "nbformat": 4,
 "nbformat_minor": 5
}

{
 "cells": [
  {
   "cell_type": "code",
   "execution_count": 1,
   "id": "daf663ae",
   "metadata": {},
   "outputs": [
    {
     "name": "stderr",
     "output_type": "stream",
     "text": [
      "/home/jayakrishnak/softwares/anaconda/lib/python3.9/site-packages/scipy/__init__.py:146: UserWarning: A NumPy version >=1.16.5 and <1.23.0 is required for this version of SciPy (detected version 1.23.0\n",
      "  warnings.warn(f\"A NumPy version >={np_minversion} and <{np_maxversion}\"\n"
     ]
    },
    {
     "name": "stdout",
     "output_type": "stream",
     "text": [
      "NOTE: Some configuration directories are not set up yet: \n",
      "\t/home/jayakrishnak/.gromacswrapper\n",
      "\t/home/jayakrishnak/.gromacswrapper/qscripts\n",
      "\t/home/jayakrishnak/.gromacswrapper/templates\n",
      "NOTE: You can create the configuration file and directories with:\n",
      "\t>>> import gromacs\n",
      "\t>>> gromacs.config.setup()\n"
     ]
    }
   ],
   "source": [
    "import numpy as np\n",
    "import matplotlib as m\n",
    "import matplotlib.pyplot as plt\n",
    "import copy as c\n",
    "import scipy.stats as sct\n",
    "import scipy.optimize as sco\n",
    "import scipy.spatial as scp\n",
    "import pyemma\n",
    "import pyemma.plots as mplt\n",
    "import pyemma.coordinates as coor\n",
    "import gromacs as gmx"
   ]
  },
  {
   "cell_type": "markdown",
   "id": "9835a043",
   "metadata": {},
   "source": [
    "## bound state"
   ]
  },
  {
   "cell_type": "code",
   "execution_count": 2,
   "id": "a7d07b5e",
   "metadata": {},
   "outputs": [],
   "source": [
    "traj_list = ['../../1_pbc_trajs/bound_.xtc']"
   ]
  },
  {
   "cell_type": "code",
   "execution_count": 3,
   "id": "af531df7",
   "metadata": {},
   "outputs": [],
   "source": [
    "top = coor.featurizer('../../0_references/bound_open.pdb')"
   ]
  },
  {
   "cell_type": "markdown",
   "id": "d89f7a9c",
   "metadata": {},
   "source": [
    "<font size=4>\n",
    "    protein - resid 9 to 236 <br><br>\n",
    "    gdm     - resid 237  <br><br>\n",
    "</font>"
   ]
  },
  {
   "cell_type": "code",
   "execution_count": 5,
   "id": "7533a23c",
   "metadata": {},
   "outputs": [],
   "source": [
    "pair_list = np.array([[i,237] for i in range(9,236+1)])"
   ]
  },
  {
   "cell_type": "code",
   "execution_count": 5,
   "id": "e2c28669",
   "metadata": {},
   "outputs": [],
   "source": [
    "top.add_residue_mindist(residue_pairs=pair_list-9, scheme='closest-heavy', periodic=False)"
   ]
  },
  {
   "cell_type": "code",
   "execution_count": 6,
   "id": "d9d8f148",
   "metadata": {},
   "outputs": [
    {
     "data": {
      "application/vnd.jupyter.widget-view+json": {
       "model_id": "",
       "version_major": 2,
       "version_minor": 0
      },
      "text/plain": [
       "getting output of FeatureReader:   0%|                                                                        …"
      ]
     },
     "metadata": {},
     "output_type": "display_data"
    }
   ],
   "source": [
    "mindist_bound = coor.source(traj_list, features=top).get_output()[0]"
   ]
  },
  {
   "cell_type": "code",
   "execution_count": 20,
   "id": "b62a5c7a",
   "metadata": {},
   "outputs": [],
   "source": [
    "np.save('mindist_bound.npy', mindist_bound)"
   ]
  },
  {
   "cell_type": "code",
   "execution_count": null,
   "id": "be33e640",
   "metadata": {},
   "outputs": [],
   "source": []
  },
  {
   "cell_type": "code",
   "execution_count": null,
   "id": "7c219f9e",
   "metadata": {},
   "outputs": [],
   "source": []
  },
  {
   "cell_type": "markdown",
   "id": "348904cd",
   "metadata": {},
   "source": [
    "## intermediate state"
   ]
  },
  {
   "cell_type": "code",
   "execution_count": 35,
   "id": "52860c47",
   "metadata": {},
   "outputs": [],
   "source": [
    "traj_list = ['../../1_pbc_trajs/binding_bound_parts/binding_13.xtc', \n",
    "             '../../1_pbc_trajs/binding_bound_parts/binding_21.xtc']"
   ]
  },
  {
   "cell_type": "code",
   "execution_count": 36,
   "id": "8fad38ee",
   "metadata": {},
   "outputs": [],
   "source": [
    "topi = coor.featurizer('../../0_references/bound_open.pdb')\n",
    "topi.add_residue_mindist(residue_pairs=pair_list-9, scheme='closest-heavy', periodic=False)"
   ]
  },
  {
   "cell_type": "code",
   "execution_count": 54,
   "id": "4806f1d2",
   "metadata": {},
   "outputs": [],
   "source": [
    "mindist_intermediate = coor.source(traj_list, features=topi).get_output()"
   ]
  },
  {
   "cell_type": "code",
   "execution_count": 59,
   "id": "480feb4b",
   "metadata": {},
   "outputs": [],
   "source": [
    "mindist_intermediate = np.concatenate((mindist_intermediate))"
   ]
  },
  {
   "cell_type": "code",
   "execution_count": 60,
   "id": "e5a68e6c",
   "metadata": {},
   "outputs": [],
   "source": [
    "np.save('mindist_intermediate.npy', mindist_intermediate)"
   ]
  },
  {
   "cell_type": "code",
   "execution_count": null,
   "id": "18ac4b2d",
   "metadata": {},
   "outputs": [],
   "source": []
  },
  {
   "cell_type": "code",
   "execution_count": null,
   "id": "d6b801e2",
   "metadata": {},
   "outputs": [],
   "source": []
  },
  {
   "cell_type": "code",
   "execution_count": null,
   "id": "05ef0836",
   "metadata": {},
   "outputs": [],
   "source": []
  },
  {
   "cell_type": "markdown",
   "id": "da9bc019",
   "metadata": {},
   "source": [
    "## Analysis"
   ]
  },
  {
   "cell_type": "code",
   "execution_count": 23,
   "id": "b4061059",
   "metadata": {},
   "outputs": [],
   "source": [
    "mindist_bound = np.load('mindist_bound.npy')\n",
    "mindist_intermediate = np.load('mindist_intermediate.npy')[-200001:]"
   ]
  },
  {
   "cell_type": "code",
   "execution_count": 24,
   "id": "6f10d839",
   "metadata": {},
   "outputs": [],
   "source": [
    "mean_bound = np.mean(mindist_bound, axis=0)"
   ]
  },
  {
   "cell_type": "code",
   "execution_count": 25,
   "id": "9d82f821",
   "metadata": {},
   "outputs": [
    {
     "data": {
      "text/plain": [
       "<BarContainer object of 228 artists>"
      ]
     },
     "execution_count": 25,
     "metadata": {},
     "output_type": "execute_result"
    },
    {
     "data": {
      "image/png": "[encoded data removed]",
      "text/plain": [
       "<Figure size 1152x360 with 1 Axes>"
      ]
     },
     "metadata": {
      "needs_background": "light"
     },
     "output_type": "display_data"
    }
   ],
   "source": [
    "fig,ax = plt.subplots(1,figsize=(16,5))\n",
    "ax.bar(pair_list[:,0], mean_bound)"
   ]
  },
  {
   "cell_type": "code",
   "execution_count": 26,
   "id": "1d9aee7c",
   "metadata": {},
   "outputs": [
    {
     "data": {
      "text/plain": [
       "(19,)"
      ]
     },
     "execution_count": 26,
     "metadata": {},
     "output_type": "execute_result"
    }
   ],
   "source": [
    "np.where(mean_bound <= 0.51)[0].shape"
   ]
  },
  {
   "cell_type": "code",
   "execution_count": null,
   "id": "78c78264",
   "metadata": {},
   "outputs": [],
   "source": []
  },
  {
   "cell_type": "code",
   "execution_count": 27,
   "id": "4e047fdf",
   "metadata": {},
   "outputs": [],
   "source": [
    "cutt = 0.51\n",
    "prob_bound = np.zeros((len(pair_list)))\n",
    "total=mindist_bound.shape[0]\n",
    "for i in range(mindist_bound.shape[1]):\n",
    "    prob_bound[i] = np.where(mindist_bound[:,i] <= cutt)[0].shape[0] / total"
   ]
  },
  {
   "cell_type": "code",
   "execution_count": 28,
   "id": "d2bd3780",
   "metadata": {},
   "outputs": [
    {
     "data": {
      "text/plain": [
       "<BarContainer object of 228 artists>"
      ]
     },
     "execution_count": 28,
     "metadata": {},
     "output_type": "execute_result"
    },
    {
     "data": {
      "image/png": "[encoded data removed]",
      "text/plain": [
       "<Figure size 1152x360 with 1 Axes>"
      ]
     },
     "metadata": {
      "needs_background": "light"
     },
     "output_type": "display_data"
    }
   ],
   "source": [
    "fig,ax = plt.subplots(1,figsize=(16,5))\n",
    "ax.bar(pair_list[:,0], prob_bound)"
   ]
  },
  {
   "cell_type": "code",
   "execution_count": 29,
   "id": "cadc0751",
   "metadata": {},
   "outputs": [
    {
     "data": {
      "text/plain": [
       "(19,)"
      ]
     },
     "execution_count": 29,
     "metadata": {},
     "output_type": "execute_result"
    }
   ],
   "source": [
    "np.where(prob_bound >= 0.5)[0].shape"
   ]
  },
  {
   "cell_type": "code",
   "execution_count": null,
   "id": "02b344ec",
   "metadata": {},
   "outputs": [],
   "source": []
  },
  {
   "cell_type": "code",
   "execution_count": null,
   "id": "0f17b820",
   "metadata": {},
   "outputs": [],
   "source": []
  },
  {
   "cell_type": "code",
   "execution_count": 32,
   "id": "3a205965",
   "metadata": {},
   "outputs": [],
   "source": [
    "mean_intermediate = np.mean(mindist_intermediate, axis=0)"
   ]
  },
  {
   "cell_type": "code",
   "execution_count": 33,
   "id": "1dee9015",
   "metadata": {},
   "outputs": [
    {
     "data": {
      "text/plain": [
       "<BarContainer object of 228 artists>"
      ]
     },
     "execution_count": 33,
     "metadata": {},
     "output_type": "execute_result"
    },
    {
     "data": {
      "image/png": "[encoded data removed]",
      "text/plain": [
       "<Figure size 1152x360 with 1 Axes>"
      ]
     },
     "metadata": {
      "needs_background": "light"
     },
     "output_type": "display_data"
    }
   ],
   "source": [
    "fig,ax = plt.subplots(1,figsize=(16,5))\n",
    "ax.bar(pair_list[:,0], mean_intermediate)"
   ]
  },
  {
   "cell_type": "code",
   "execution_count": 34,
   "id": "0aa028c9",
   "metadata": {},
   "outputs": [
    {
     "data": {
      "text/plain": [
       "(13,)"
      ]
     },
     "execution_count": 34,
     "metadata": {},
     "output_type": "execute_result"
    }
   ],
   "source": [
    "np.where(mean_intermediate <= 0.51)[0].shape"
   ]
  },
  {
   "cell_type": "code",
   "execution_count": 35,
   "id": "338de2c9",
   "metadata": {},
   "outputs": [],
   "source": [
    "cutt = 0.51\n",
    "prob_intermediate = np.zeros((len(pair_list)))\n",
    "total=mindist_intermediate.shape[0]\n",
    "for i in range(mindist_intermediate.shape[1]):\n",
    "    prob_intermediate[i] = np.where(mindist_intermediate[:,i] <= cutt)[0].shape[0] / total"
   ]
  },
  {
   "cell_type": "code",
   "execution_count": 36,
   "id": "afba830e",
   "metadata": {},
   "outputs": [
    {
     "data": {
      "text/plain": [
       "<BarContainer object of 228 artists>"
      ]
     },
     "execution_count": 36,
     "metadata": {},
     "output_type": "execute_result"
    },
    {
     "data": {
      "image/png": "[encoded data removed]",
      "text/plain": [
       "<Figure size 1152x360 with 1 Axes>"
      ]
     },
     "metadata": {
      "needs_background": "light"
     },
     "output_type": "display_data"
    }
   ],
   "source": [
    "fig,ax=plt.subplots(1,figsize=(16,5))\n",
    "ax.bar(pair_list[:,0], prob_intermediate)"
   ]
  },
  {
   "cell_type": "code",
   "execution_count": 37,
   "id": "82671995",
   "metadata": {},
   "outputs": [
    {
     "data": {
      "text/plain": [
       "(13,)"
      ]
     },
     "execution_count": 37,
     "metadata": {},
     "output_type": "execute_result"
    }
   ],
   "source": [
    "np.where(prob_intermediate >= 0.5)[0].shape"
   ]
  },
  {
   "cell_type": "code",
   "execution_count": null,
   "id": "90f5bbaf",
   "metadata": {},
   "outputs": [],
   "source": []
  },
  {
   "cell_type": "code",
   "execution_count": null,
   "id": "401c646d",
   "metadata": {},
   "outputs": [],
   "source": []
  },
  {
   "cell_type": "markdown",
   "id": "3f1a0748",
   "metadata": {},
   "source": [
    "## important residues"
   ]
  },
  {
   "cell_type": "code",
   "execution_count": 38,
   "id": "82d85c61",
   "metadata": {},
   "outputs": [],
   "source": [
    "seq = []\n",
    "res=None\n",
    "for i in open('../../0_references/bound_open.pdb','r'):\n",
    "    i = i.strip().split()\n",
    "    if i[0] == 'ATOM':\n",
    "        if i[4] != res:\n",
    "            res = i[4]\n",
    "            if i[3] != 'GDM':\n",
    "                seq.append(i[3])\n",
    "seq = np.array(seq)"
   ]
  },
  {
   "cell_type": "code",
   "execution_count": 39,
   "id": "b491f649",
   "metadata": {},
   "outputs": [
    {
     "data": {
      "text/plain": [
       "(228,)"
      ]
     },
     "execution_count": 39,
     "metadata": {},
     "output_type": "execute_result"
    }
   ],
   "source": [
    "seq.shape"
   ]
  },
  {
   "cell_type": "code",
   "execution_count": 43,
   "id": "40321f7e",
   "metadata": {},
   "outputs": [],
   "source": [
    "cutt = 0.5\n",
    "imp_res_bound = []\n",
    "imp_res_intermediate = []\n",
    "\n",
    "for i in range(len(pair_list)):\n",
    "    if prob_bound[i] >= cutt:\n",
    "        imp_res_bound.append([seq[i]+str(pair_list[i][0]), prob_bound[i]])\n",
    "\n",
    "    if prob_intermediate[i] >= cutt:\n",
    "        imp_res_intermediate.append([seq[i]+str(pair_list[i][0]), prob_intermediate[i]])\n",
    "        \n",
    "imp_res_bound = np.array(imp_res_bound)\n",
    "imp_res_intermediate = np.array(imp_res_intermediate)\n",
    "\n",
    "all_pairs = np.unique( np.concatenate((imp_res_bound[:,0], imp_res_intermediate[:,0])) )\n",
    "# pp = np.concatenate((imp_res_bound[:,0], imp_res_intermediate[:,0]))\n",
    "# all_pairs = []\n",
    "# for i in pp:\n",
    "#     if i not in all_pairs:\n",
    "#         all_pairs.append(i)\n",
    "\n",
    "imp_res_all = []\n",
    "for i in all_pairs:\n",
    "    bb = imp_res_bound[imp_res_bound[:,0] == i]\n",
    "    if bb.shape[0] == 1:\n",
    "        bb = bb[0][1]\n",
    "    else:\n",
    "        bb = 0\n",
    "        \n",
    "    ii = imp_res_intermediate[imp_res_intermediate[:,0] == i]\n",
    "    if ii.shape[0] == 1:\n",
    "        ii = ii[0][1]\n",
    "    else:\n",
    "        ii = 0\n",
    "        \n",
    "    imp_res_all.append([i, bb, ii])\n",
    "imp_res_all = np.array(imp_res_all)"
   ]
  },
  {
   "cell_type": "code",
   "execution_count": 44,
   "id": "78b514c6",
   "metadata": {},
   "outputs": [
    {
     "data": {
      "image/png": "[encoded data removed]",
      "text/plain": [
       "<Figure size 1152x360 with 1 Axes>"
      ]
     },
     "metadata": {
      "needs_background": "light"
     },
     "output_type": "display_data"
    }
   ],
   "source": [
    "width=0.2\n",
    "xrange = np.arange(len(imp_res_all))\n",
    "fig,ax=plt.subplots(1,figsize=(16,5))\n",
    "ax.bar(xrange-width/2, imp_res_all[:,1].astype(float), width=width, color='black')\n",
    "ax.bar(xrange+width/2, imp_res_all[:,2].astype(float), width=width, color='red')\n",
    "ax.set_xlim(-width*2,len(imp_res_all)+width*2-1)\n",
    "ax.set_xticks(xrange, imp_res_all[:,0], rotation=90)\n",
    "ax.spines[:].set_linewidth(2)\n",
    "ax.tick_params('x',length=7, width=2, labelsize=20)\n",
    "ax.tick_params('y',length=7, width=2, labelsize=28)\n",
    "plt.show()"
   ]
  },
  {
   "cell_type": "code",
   "execution_count": null,
   "id": "94896bf9",
   "metadata": {},
   "outputs": [],
   "source": []
  },
  {
   "cell_type": "code",
   "execution_count": null,
   "id": "862b397a",
   "metadata": {},
   "outputs": [],
   "source": []
  },
  {
   "cell_type": "code",
   "execution_count": null,
   "id": "ecd06cb2",
   "metadata": {},
   "outputs": [],
   "source": []
  },
  {
   "cell_type": "markdown",
   "id": "26f125c7",
   "metadata": {},
   "source": [
    "## making beta factor files"
   ]
  },
  {
   "cell_type": "code",
   "execution_count": 42,
   "id": "c8f2ba3b",
   "metadata": {},
   "outputs": [],
   "source": [
    "fbound = open('apo_bound.pdb','w')\n",
    "fintermediate = open('apo_intermediate.pdb','w')\n",
    "fdiff = open('apo_difference.pdb','w')\n",
    "\n",
    "for l in open('apo_open.pdb','r'):\n",
    "    i = l.strip().split()\n",
    "    \n",
    "    if i[0] == 'ATOM':\n",
    "        ind = int(i[4]) - 9\n",
    "        fbound.write( l[:62] + \"{:.2f}   \\n\".format(prob_bound[ind]) )\n",
    "        fintermediate.write( l[:62] + \"{:.2f}   \\n\".format(prob_intermediate[ind]) )\n",
    "        fdiff.write( l[:62] + \"{:.2f}   \\n\".format(prob_bound[ind]-prob_intermediate[ind]) )\n",
    "        \n",
    "    else:\n",
    "        fbound.write(l)\n",
    "        fintermediate.write(l)\n",
    "        fdiff.write(l)\n",
    "    \n",
    "fbound.close()\n",
    "fintermediate.close()\n",
    "fdiff.close()"
   ]
  },
  {
   "cell_type": "code",
   "execution_count": null,
   "id": "d20078b1",
   "metadata": {},
   "outputs": [],
   "source": []
  },
  {
   "cell_type": "code",
   "execution_count": null,
   "id": "d04adc90",
   "metadata": {},
   "outputs": [],
   "source": []
  },
  {
   "cell_type": "code",
   "execution_count": null,
   "id": "947dfdb1",
   "metadata": {},
   "outputs": [],
   "source": []
  },
  {
   "cell_type": "code",
   "execution_count": null,
   "id": "5ef9e0a0",
   "metadata": {},
   "outputs": [],
   "source": []
  },
  {
   "cell_type": "markdown",
   "id": "6549a784",
   "metadata": {},
   "source": [
    "## colorbar for lcontacts"
   ]
  },
  {
   "cell_type": "code",
   "execution_count": 11,
   "id": "5ae12582",
   "metadata": {},
   "outputs": [
    {
     "data": {
      "image/png": "[encoded data removed]",
      "text/html": [
       "<div style=\"vertical-align: middle;\"><strong>cb1</strong> </div><div class=\"cmap\"><img alt=\"cb1 colormap\" title=\"cb1\" style=\"border: 1px solid #555;\" src=\"data:image/png;base64,iVBORw0KGgoAAAANSUhEUgAAAgAAAABACAYAAABsv8+/AAAAEnRFWHRUaXRsZQBjYjEgY29sb3JtYXCOuO2nAAAAGHRFWHREZXNjcmlwdGlvbgBjYjEgY29sb3JtYXCCkJ/9AAAAMHRFWHRBdXRob3IATWF0cGxvdGxpYiB2My41LjEsIGh0dHBzOi8vbWF0cGxvdGxpYi5vcmf3t87PAAAAMnRFWHRTb2Z0d2FyZQBNYXRwbG90bGliIHYzLjUuMSwgaHR0cHM6Ly9tYXRwbG90bGliLm9yZ9kRUegAAAEpSURBVHic7dYBDcBAEMOw/vhzvgGJLYVD3u5u256kXnebpF7bvgEAOQYAAIIMAAAEGQAACDIAABBkAAAgyAAAQJABAIAgAwAAQQYAAIIMAAAEGQAACDIAABBkAAAgyAAAQJABAIAgAwAAQQYAAIIMAAAEGQAACDIAABBkAAAgyAAAQJABAIAgAwAAQQYAAIIMAAAEGQAACDIAABBkAAAgyAAAQJABAIAgAwAAQQYAAIIMAAAEGQAACDIAABBkAAAgyAAAQJABAIAgAwAAQQYAAIIMAAAEGQAACDIAABBkAAAgyAAAQJABAIAgAwAAQQYAAIIMAAAEGQAACDIAABBkAAAgyAAAQJABAIAgAwAAQQYAAIIMAAAEGQAACDIAABBkAAAgyAAAQNAPUZ8AnChz+6MAAAAASUVORK5CYII=\"></div><div style=\"vertical-align: middle; max-width: 514px; display: flex; justify-content: space-between;\"><div style=\"float: left;\"><div title=\"#00ffffff\" style=\"display: inline-block; width: 1em; height: 1em; margin: 0; vertical-align: middle; border: 1px solid #555; background-color: #00ffffff;\"></div> under</div><div style=\"margin: 0 auto; display: inline-block;\">bad <div title=\"#00000000\" style=\"display: inline-block; width: 1em; height: 1em; margin: 0; vertical-align: middle; border: 1px solid #555; background-color: #00000000;\"></div></div><div style=\"float: right;\">over <div title=\"#ff0000ff\" style=\"display: inline-block; width: 1em; height: 1em; margin: 0; vertical-align: middle; border: 1px solid #555; background-color: #ff0000ff;\"></div></div>"
      ],
      "text/plain": [
       "<matplotlib.colors.LinearSegmentedColormap at 0x7fdbe904adf0>"
      ]
     },
     "execution_count": 11,
     "metadata": {},
     "output_type": "execute_result"
    }
   ],
   "source": [
    "cb1 = m.cm.colors.LinearSegmentedColormap.from_list('cb1', ['cyan','white','red'], N=1024)\n",
    "cb1"
   ]
  },
  {
   "cell_type": "code",
   "execution_count": 45,
   "id": "9e8fae3d",
   "metadata": {},
   "outputs": [
    {
     "data": {
      "image/png": "[encoded data removed]",
      "text/plain": [
       "<Figure size 864x216 with 2 Axes>"
      ]
     },
     "metadata": {
      "needs_background": "light"
     },
     "output_type": "display_data"
    }
   ],
   "source": [
    "fig,ax = plt.subplots(1,figsize=(12,3))\n",
    "cax = fig.add_axes([0.18,0.4,0.65,0.18])\n",
    "cb = plt.colorbar(mappable=m.cm.ScalarMappable(cmap=cb1), cax=cax, orientation='horizontal')\n",
    "cb.ax.set_xticks([0,0.5,1])\n",
    "cb.ax.tick_params(labelsize=28, length=8, width=1.8)\n",
    "cb.ax.spines[:].set_linewidth(1.8)\n",
    "cb.ax.xaxis.set_minor_locator(m.ticker.AutoMinorLocator(4))\n",
    "cb.ax.tick_params(which='minor', length=4, width=1.8)\n",
    "plt.savefig('cb1.pdf')"
   ]
  },
  {
   "cell_type": "code",
   "execution_count": null,
   "id": "ecaafa7d",
   "metadata": {},
   "outputs": [],
   "source": []
  },
  {
   "cell_type": "code",
   "execution_count": null,
   "id": "c1047c03",
   "metadata": {},
   "outputs": [],
   "source": []
  },
  {
   "cell_type": "code",
   "execution_count": null,
   "id": "428a0d23",
   "metadata": {},
   "outputs": [],
   "source": []
  }
 ],
 "metadata": {
  "kernelspec": {
   "display_name": "Python 3 (ipykernel)",
   "language": "python",
   "name": "python3"
  },
  "language_info": {
   "codemirror_mode": {
    "name": "ipython",
    "version": 3
   },
   "file_extension": ".py",
   "mimetype": "text/x-python",
   "name": "python",
   "nbconvert_exporter": "python",
   "pygments_lexer": "ipython3",
   "version": "3.9.12"
  }
 },
 "nbformat": 4,
 "nbformat_minor": 5
}
